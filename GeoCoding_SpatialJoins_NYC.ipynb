{
  "nbformat": 4,
  "nbformat_minor": 0,
  "metadata": {
    "colab": {
      "provenance": [],
      "collapsed_sections": []
    },
    "kernelspec": {
      "name": "python3",
      "display_name": "Python 3"
    },
    "language_info": {
      "name": "python"
    }
  },
  "cells": [
    {
      "cell_type": "markdown",
      "source": [
        "# Overview\n",
        "\n",
        "Practice how to do geocoding and spatial joins  in Python.\n",
        "\n",
        "We will work with a practical case: the goal is to find out how many people live within 1.5 km (Euclidian) distance from big shopping centers in NYC.\n",
        "\n",
        "\n",
        "```\n",
        "├── GEOG485\n",
        "│   ├── Code\n",
        "│   │   ├── this notebook\n",
        "│   ├── Data\n",
        "│   │   ├── shopping_centers.txt (you will create this file and save it under here)\n",
        "│   │   ├── nyc_shapefiles\n",
        "│   │   │   ├── nyc_subway_stations.shp\n",
        "│   │   │   ├── nyc_census_blocks.shp\n",
        "\n",
        "```\n",
        "\n",
        "Let's start by connecting to google drive and locating to our designated folder and install necessary libraries:"
      ],
      "metadata": {
        "id": "ejOFzl9H1mBe"
      }
    },
    {
      "cell_type": "markdown",
      "source": [
        "replace the nonimplemented code lines\n",
        "replace non with your code"
      ],
      "metadata": {
        "id": "9wO9trPP455e"
      }
    },
    {
      "cell_type": "code",
      "execution_count": null,
      "metadata": {
        "id": "bSp2Ks3y1Gx9",
        "colab": {
          "base_uri": "https://localhost:8080/"
        },
        "outputId": "19cce0d2-c637-485b-a938-3311fbc9b67b"
      },
      "outputs": [
        {
          "output_type": "stream",
          "name": "stdout",
          "text": [
            "Mounted at /content/drive\n"
          ]
        }
      ],
      "source": [
        "from google.colab import drive\n",
        "drive.mount('/content/drive')"
      ]
    },
    {
      "cell_type": "code",
      "source": [
        "import os\n",
        "os.chdir('/content/drive/MyDrive/GEOG485/Code/') # change this to your folder if necessary"
      ],
      "metadata": {
        "id": "ZQi80Vg31bvG"
      },
      "execution_count": null,
      "outputs": []
    },
    {
      "cell_type": "code",
      "source": [
        "! pip install geopandas\n",
        "! pip install rtree\n",
        "! pip install -U mapclassify"
      ],
      "metadata": {
        "id": "9cmXidWr1fIW",
        "colab": {
          "base_uri": "https://localhost:8080/"
        },
        "outputId": "32b10c48-2bb0-4516-d55b-97625329b3ed"
      },
      "execution_count": null,
      "outputs": [
        {
          "output_type": "stream",
          "name": "stdout",
          "text": [
            "Collecting geopandas\n",
            "  Downloading geopandas-0.10.2-py2.py3-none-any.whl (1.0 MB)\n",
            "\u001b[K     |████████████████████████████████| 1.0 MB 4.9 MB/s \n",
            "\u001b[?25hCollecting fiona>=1.8\n",
            "  Downloading Fiona-1.8.20-cp37-cp37m-manylinux1_x86_64.whl (15.4 MB)\n",
            "\u001b[K     |████████████████████████████████| 15.4 MB 32.1 MB/s \n",
            "\u001b[?25hRequirement already satisfied: shapely>=1.6 in /usr/local/lib/python3.7/dist-packages (from geopandas) (1.8.0)\n",
            "Requirement already satisfied: pandas>=0.25.0 in /usr/local/lib/python3.7/dist-packages (from geopandas) (1.3.5)\n",
            "Collecting pyproj>=2.2.0\n",
            "  Downloading pyproj-3.2.1-cp37-cp37m-manylinux2010_x86_64.whl (6.3 MB)\n",
            "\u001b[K     |████████████████████████████████| 6.3 MB 72.3 MB/s \n",
            "\u001b[?25hRequirement already satisfied: six>=1.7 in /usr/local/lib/python3.7/dist-packages (from fiona>=1.8->geopandas) (1.15.0)\n",
            "Collecting click-plugins>=1.0\n",
            "  Downloading click_plugins-1.1.1-py2.py3-none-any.whl (7.5 kB)\n",
            "Collecting cligj>=0.5\n",
            "  Downloading cligj-0.7.2-py3-none-any.whl (7.1 kB)\n",
            "Collecting munch\n",
            "  Downloading munch-2.5.0-py2.py3-none-any.whl (10 kB)\n",
            "Requirement already satisfied: certifi in /usr/local/lib/python3.7/dist-packages (from fiona>=1.8->geopandas) (2021.10.8)\n",
            "Requirement already satisfied: click>=4.0 in /usr/local/lib/python3.7/dist-packages (from fiona>=1.8->geopandas) (7.1.2)\n",
            "Requirement already satisfied: setuptools in /usr/local/lib/python3.7/dist-packages (from fiona>=1.8->geopandas) (57.4.0)\n",
            "Requirement already satisfied: attrs>=17 in /usr/local/lib/python3.7/dist-packages (from fiona>=1.8->geopandas) (21.4.0)\n",
            "Requirement already satisfied: numpy>=1.17.3 in /usr/local/lib/python3.7/dist-packages (from pandas>=0.25.0->geopandas) (1.19.5)\n",
            "Requirement already satisfied: pytz>=2017.3 in /usr/local/lib/python3.7/dist-packages (from pandas>=0.25.0->geopandas) (2018.9)\n",
            "Requirement already satisfied: python-dateutil>=2.7.3 in /usr/local/lib/python3.7/dist-packages (from pandas>=0.25.0->geopandas) (2.8.2)\n",
            "Installing collected packages: munch, cligj, click-plugins, pyproj, fiona, geopandas\n",
            "Successfully installed click-plugins-1.1.1 cligj-0.7.2 fiona-1.8.20 geopandas-0.10.2 munch-2.5.0 pyproj-3.2.1\n",
            "Collecting rtree\n",
            "  Downloading Rtree-0.9.7-cp37-cp37m-manylinux2010_x86_64.whl (994 kB)\n",
            "\u001b[K     |████████████████████████████████| 994 kB 4.9 MB/s \n",
            "\u001b[?25hInstalling collected packages: rtree\n",
            "Successfully installed rtree-0.9.7\n",
            "Collecting mapclassify\n",
            "  Downloading mapclassify-2.4.3-py3-none-any.whl (38 kB)\n",
            "Requirement already satisfied: pandas>=1.0 in /usr/local/lib/python3.7/dist-packages (from mapclassify) (1.3.5)\n",
            "Requirement already satisfied: scipy>=1.0 in /usr/local/lib/python3.7/dist-packages (from mapclassify) (1.4.1)\n",
            "Requirement already satisfied: networkx in /usr/local/lib/python3.7/dist-packages (from mapclassify) (2.6.3)\n",
            "Requirement already satisfied: scikit-learn in /usr/local/lib/python3.7/dist-packages (from mapclassify) (1.0.2)\n",
            "Requirement already satisfied: numpy>=1.3 in /usr/local/lib/python3.7/dist-packages (from mapclassify) (1.19.5)\n",
            "Requirement already satisfied: pytz>=2017.3 in /usr/local/lib/python3.7/dist-packages (from pandas>=1.0->mapclassify) (2018.9)\n",
            "Requirement already satisfied: python-dateutil>=2.7.3 in /usr/local/lib/python3.7/dist-packages (from pandas>=1.0->mapclassify) (2.8.2)\n",
            "Requirement already satisfied: six>=1.5 in /usr/local/lib/python3.7/dist-packages (from python-dateutil>=2.7.3->pandas>=1.0->mapclassify) (1.15.0)\n",
            "Requirement already satisfied: threadpoolctl>=2.0.0 in /usr/local/lib/python3.7/dist-packages (from scikit-learn->mapclassify) (3.0.0)\n",
            "Requirement already satisfied: joblib>=0.11 in /usr/local/lib/python3.7/dist-packages (from scikit-learn->mapclassify) (1.1.0)\n",
            "Installing collected packages: mapclassify\n",
            "Successfully installed mapclassify-2.4.3\n"
          ]
        }
      ]
    },
    {
      "cell_type": "markdown",
      "source": [
        "## Problem 1: Geocode shopping centers\n",
        "\n",
        "The overall aim of problems 1-3 is to find out how many people live within a walking distance (1.5 km) from certain shopping centers in NYC.\n",
        "\n",
        "In problem 1 aim is to find out the addresses of shopping centers and to retreive numercal coordinates for these addresses.\n",
        "\n",
        "**Preparation:** Find out the addresses for following shopping centers from the internet, and write the addresses into a text file called `shopping_centers.txt`:\n",
        "\n",
        " - Brookfield Place\n",
        " - Westfield World Trade Center\n",
        " - The Shops at Columbus Circle\n",
        " - Hudson Yards\n",
        " - Manhattan Mall\n",
        " - Showplace • Luxury • Art • Design • Vintage\n",
        " - SHOWFIELDS \n",
        "\n",
        "`shopping_centers.txt` should have semicolon (`;`) as a separator, and the file should include the following columns:\n",
        "\n",
        "- ``id`` (integer) containing an unique identifier for each shopping center\n",
        "- ``name`` (string) of each shopping center\n",
        "- ``addr`` (string) the address \n",
        "\n",
        "See and example of how to format the text file `addresses.txt`. Save and upload the text file into your data folder.\n",
        "\n",
        "- Read `shopping_centers.txt` that you just created into a pandas DataFrame called ``data``:\n"
      ],
      "metadata": {
        "id": "h-rl1A3P2iV1"
      }
    },
    {
      "cell_type": "code",
      "source": [
        "# Import modules\n",
        "import pandas as pd\n",
        "import geopandas as gpd\n",
        "from shapely.geometry import Point"
      ],
      "metadata": {
        "id": "Q4bft6uq5sOO"
      },
      "execution_count": null,
      "outputs": []
    },
    {
      "cell_type": "code",
      "source": [
        "# Read the data (replace \"None\" with your own code)\n",
        "fp = \"../Data/shopping_centers.txt\"\n",
        "data = pd.read_csv(fp, sep=';')\n",
        "\n",
        "# REPLACE THE ERROR BELOW WITH YOUR OWN CODE\n",
        "# raise NotImplementedError()"
      ],
      "metadata": {
        "id": "tV6rVjpO1ghm",
        "outputId": "cbbac8a4-d836-4c9f-e4c8-251bb80024aa",
        "colab": {
          "base_uri": "https://localhost:8080/",
          "height": 236
        }
      },
      "execution_count": null,
      "outputs": [
        {
          "output_type": "error",
          "ename": "NameError",
          "evalue": "ignored",
          "traceback": [
            "\u001b[0;31m---------------------------------------------------------------------------\u001b[0m",
            "\u001b[0;31mNameError\u001b[0m                                 Traceback (most recent call last)",
            "\u001b[0;32m<ipython-input-1-0576e7724f3f>\u001b[0m in \u001b[0;36m<module>\u001b[0;34m()\u001b[0m\n\u001b[1;32m      1\u001b[0m \u001b[0;31m# Read the data (replace \"None\" with your own code)\u001b[0m\u001b[0;34m\u001b[0m\u001b[0;34m\u001b[0m\u001b[0;34m\u001b[0m\u001b[0m\n\u001b[1;32m      2\u001b[0m \u001b[0mfp\u001b[0m \u001b[0;34m=\u001b[0m \u001b[0;34m\"../Data/shopping_centers.txt\"\u001b[0m\u001b[0;34m\u001b[0m\u001b[0;34m\u001b[0m\u001b[0m\n\u001b[0;32m----> 3\u001b[0;31m \u001b[0mdata\u001b[0m \u001b[0;34m=\u001b[0m \u001b[0mpd\u001b[0m\u001b[0;34m.\u001b[0m\u001b[0mread_csv\u001b[0m\u001b[0;34m(\u001b[0m\u001b[0mfp\u001b[0m\u001b[0;34m,\u001b[0m \u001b[0msep\u001b[0m\u001b[0;34m=\u001b[0m\u001b[0;34m';'\u001b[0m\u001b[0;34m)\u001b[0m\u001b[0;34m\u001b[0m\u001b[0;34m\u001b[0m\u001b[0m\n\u001b[0m\u001b[1;32m      4\u001b[0m \u001b[0;34m\u001b[0m\u001b[0m\n\u001b[1;32m      5\u001b[0m \u001b[0;31m# REPLACE THE ERROR BELOW WITH YOUR OWN CODE\u001b[0m\u001b[0;34m\u001b[0m\u001b[0;34m\u001b[0m\u001b[0;34m\u001b[0m\u001b[0m\n",
            "\u001b[0;31mNameError\u001b[0m: name 'pd' is not defined"
          ]
        }
      ]
    },
    {
      "cell_type": "code",
      "source": [
        "#NON-EDITABLE TEST CELL\n",
        "# Check your input data\n",
        "print(data)"
      ],
      "metadata": {
        "id": "2pOxUjGl7FPM",
        "colab": {
          "base_uri": "https://localhost:8080/"
        },
        "outputId": "da9b9b3b-a60d-4014-9054-c5586b8ace30"
      },
      "execution_count": null,
      "outputs": [
        {
          "output_type": "stream",
          "name": "stdout",
          "text": [
            "   id  ...                                   addr\n",
            "0   1  ...       230 Vesey St, New York, NY 10281\n",
            "1   2  ...   185 Greenwich St, New York, NY 10007\n",
            "2   3  ...    10 Columbus Cir, New York, NY 10019\n",
            "3   4  ...    30 Hudson Yards, New York, NY 10001\n",
            "4   5  ...       00 W 33rd St, New York, NY 10001\n",
            "5   6  ...       40 W 25th St, New York, NY 10010\n",
            "6   7  ...         11 Bond St, New York, NY 10012\n",
            "\n",
            "[7 rows x 3 columns]\n"
          ]
        }
      ]
    },
    {
      "cell_type": "markdown",
      "source": [
        "- Geocode the addresses using the Nominatim geocoding service. Store the output in a variable called `geo`:"
      ],
      "metadata": {
        "id": "urMPKFDO7I0E"
      }
    },
    {
      "cell_type": "code",
      "source": [
        "#import geocoding tool\n",
        "from geopandas.tools import geocode\n",
        "# Geocode the addresses using Nominatim\n",
        "geo = geocode(data[' addr'], provider='nominatim', user_agent='autogis_xx', timeout=4)\n",
        "\n",
        "# REPLACE THE ERROR BELOW WITH YOUR OWN CODE\n",
        "# raise NotImplementedError()"
      ],
      "metadata": {
        "id": "-_ZduDUp7HR8"
      },
      "execution_count": null,
      "outputs": []
    },
    {
      "cell_type": "code",
      "source": [
        "#NON-EDITABLE TEST CELL\n",
        "# Check the geocoded output\n",
        "print(geo)"
      ],
      "metadata": {
        "id": "X-nCABMz7Kus",
        "colab": {
          "base_uri": "https://localhost:8080/"
        },
        "outputId": "371373e3-68aa-4e35-ad48-f44018dbe500"
      },
      "execution_count": null,
      "outputs": [
        {
          "output_type": "stream",
          "name": "stdout",
          "text": [
            "                     geometry                                            address\n",
            "0  POINT (-74.01562 40.71232)  The Rink at Brookfield Place with Gregory & Pe...\n",
            "1  POINT (-74.01165 40.71177)  Apple World Trade Center, 185, Greenwich Stree...\n",
            "2  POINT (-73.98285 40.76825)  Per Se, 10, Columbus Circle, Manhattan, New Yo...\n",
            "3  POINT (-74.00054 40.75391)  30 Hudson Yards, 30, 10th Avenue, Hudson Yards...\n",
            "4  POINT (-73.99050 40.75009)  West 33rd Street, Herald Square, Manhattan, Ne...\n",
            "5  POINT (-73.99106 40.74360)  40, West 25th Street, Manhattan Community Boar...\n",
            "6  POINT (-73.99223 40.72571)  Bond Street, NoHo, Manhattan, New York, 10012,...\n"
          ]
        }
      ]
    },
    {
      "cell_type": "code",
      "source": [
        "#NON-EDITABLE TEST CELL\n",
        "# Check the data type (should be a GeoDataFrame!)\n",
        "print(type(geo))"
      ],
      "metadata": {
        "id": "yWPgcd0V7L78",
        "colab": {
          "base_uri": "https://localhost:8080/"
        },
        "outputId": "0c889918-6726-40b7-ef9e-9a38cb725c9e"
      },
      "execution_count": null,
      "outputs": [
        {
          "output_type": "stream",
          "name": "stdout",
          "text": [
            "<class 'geopandas.geodataframe.GeoDataFrame'>\n"
          ]
        }
      ]
    },
    {
      "cell_type": "code",
      "source": [
        "geo\n",
        "#to check"
      ],
      "metadata": {
        "colab": {
          "base_uri": "https://localhost:8080/",
          "height": 269
        },
        "id": "sQgJtH968TBn",
        "outputId": "e631d629-db64-4171-b7d9-7374fb22475d"
      },
      "execution_count": null,
      "outputs": [
        {
          "output_type": "execute_result",
          "data": {
            "text/html": [
              "\n",
              "  <div id=\"df-1c5e63cd-c724-48d6-9941-bb4ac31ba57b\">\n",
              "    <div class=\"colab-df-container\">\n",
              "      <div>\n",
              "<style scoped>\n",
              "    .dataframe tbody tr th:only-of-type {\n",
              "        vertical-align: middle;\n",
              "    }\n",
              "\n",
              "    .dataframe tbody tr th {\n",
              "        vertical-align: top;\n",
              "    }\n",
              "\n",
              "    .dataframe thead th {\n",
              "        text-align: right;\n",
              "    }\n",
              "</style>\n",
              "<table border=\"1\" class=\"dataframe\">\n",
              "  <thead>\n",
              "    <tr style=\"text-align: right;\">\n",
              "      <th></th>\n",
              "      <th>geometry</th>\n",
              "      <th>address</th>\n",
              "    </tr>\n",
              "  </thead>\n",
              "  <tbody>\n",
              "    <tr>\n",
              "      <th>0</th>\n",
              "      <td>POINT (-74.01562 40.71232)</td>\n",
              "      <td>The Rink at Brookfield Place with Gregory &amp; Pe...</td>\n",
              "    </tr>\n",
              "    <tr>\n",
              "      <th>1</th>\n",
              "      <td>POINT (-74.01165 40.71177)</td>\n",
              "      <td>Apple World Trade Center, 185, Greenwich Stree...</td>\n",
              "    </tr>\n",
              "    <tr>\n",
              "      <th>2</th>\n",
              "      <td>POINT (-73.98285 40.76825)</td>\n",
              "      <td>Per Se, 10, Columbus Circle, Manhattan, New Yo...</td>\n",
              "    </tr>\n",
              "    <tr>\n",
              "      <th>3</th>\n",
              "      <td>POINT (-74.00054 40.75391)</td>\n",
              "      <td>30 Hudson Yards, 30, 10th Avenue, Hudson Yards...</td>\n",
              "    </tr>\n",
              "    <tr>\n",
              "      <th>4</th>\n",
              "      <td>POINT (-73.99050 40.75009)</td>\n",
              "      <td>West 33rd Street, Herald Square, Manhattan, Ne...</td>\n",
              "    </tr>\n",
              "    <tr>\n",
              "      <th>5</th>\n",
              "      <td>POINT (-73.99106 40.74360)</td>\n",
              "      <td>40, West 25th Street, Manhattan Community Boar...</td>\n",
              "    </tr>\n",
              "    <tr>\n",
              "      <th>6</th>\n",
              "      <td>POINT (-73.99223 40.72571)</td>\n",
              "      <td>Bond Street, NoHo, Manhattan, New York, 10012,...</td>\n",
              "    </tr>\n",
              "  </tbody>\n",
              "</table>\n",
              "</div>\n",
              "      <button class=\"colab-df-convert\" onclick=\"convertToInteractive('df-1c5e63cd-c724-48d6-9941-bb4ac31ba57b')\"\n",
              "              title=\"Convert this dataframe to an interactive table.\"\n",
              "              style=\"display:none;\">\n",
              "        \n",
              "  <svg xmlns=\"http://www.w3.org/2000/svg\" height=\"24px\"viewBox=\"0 0 24 24\"\n",
              "       width=\"24px\">\n",
              "    <path d=\"M0 0h24v24H0V0z\" fill=\"none\"/>\n",
              "    <path d=\"M18.56 5.44l.94 2.06.94-2.06 2.06-.94-2.06-.94-.94-2.06-.94 2.06-2.06.94zm-11 1L8.5 8.5l.94-2.06 2.06-.94-2.06-.94L8.5 2.5l-.94 2.06-2.06.94zm10 10l.94 2.06.94-2.06 2.06-.94-2.06-.94-.94-2.06-.94 2.06-2.06.94z\"/><path d=\"M17.41 7.96l-1.37-1.37c-.4-.4-.92-.59-1.43-.59-.52 0-1.04.2-1.43.59L10.3 9.45l-7.72 7.72c-.78.78-.78 2.05 0 2.83L4 21.41c.39.39.9.59 1.41.59.51 0 1.02-.2 1.41-.59l7.78-7.78 2.81-2.81c.8-.78.8-2.07 0-2.86zM5.41 20L4 18.59l7.72-7.72 1.47 1.35L5.41 20z\"/>\n",
              "  </svg>\n",
              "      </button>\n",
              "      \n",
              "  <style>\n",
              "    .colab-df-container {\n",
              "      display:flex;\n",
              "      flex-wrap:wrap;\n",
              "      gap: 12px;\n",
              "    }\n",
              "\n",
              "    .colab-df-convert {\n",
              "      background-color: #E8F0FE;\n",
              "      border: none;\n",
              "      border-radius: 50%;\n",
              "      cursor: pointer;\n",
              "      display: none;\n",
              "      fill: #1967D2;\n",
              "      height: 32px;\n",
              "      padding: 0 0 0 0;\n",
              "      width: 32px;\n",
              "    }\n",
              "\n",
              "    .colab-df-convert:hover {\n",
              "      background-color: #E2EBFA;\n",
              "      box-shadow: 0px 1px 2px rgba(60, 64, 67, 0.3), 0px 1px 3px 1px rgba(60, 64, 67, 0.15);\n",
              "      fill: #174EA6;\n",
              "    }\n",
              "\n",
              "    [theme=dark] .colab-df-convert {\n",
              "      background-color: #3B4455;\n",
              "      fill: #D2E3FC;\n",
              "    }\n",
              "\n",
              "    [theme=dark] .colab-df-convert:hover {\n",
              "      background-color: #434B5C;\n",
              "      box-shadow: 0px 1px 3px 1px rgba(0, 0, 0, 0.15);\n",
              "      filter: drop-shadow(0px 1px 2px rgba(0, 0, 0, 0.3));\n",
              "      fill: #FFFFFF;\n",
              "    }\n",
              "  </style>\n",
              "\n",
              "      <script>\n",
              "        const buttonEl =\n",
              "          document.querySelector('#df-1c5e63cd-c724-48d6-9941-bb4ac31ba57b button.colab-df-convert');\n",
              "        buttonEl.style.display =\n",
              "          google.colab.kernel.accessAllowed ? 'block' : 'none';\n",
              "\n",
              "        async function convertToInteractive(key) {\n",
              "          const element = document.querySelector('#df-1c5e63cd-c724-48d6-9941-bb4ac31ba57b');\n",
              "          const dataTable =\n",
              "            await google.colab.kernel.invokeFunction('convertToInteractive',\n",
              "                                                     [key], {});\n",
              "          if (!dataTable) return;\n",
              "\n",
              "          const docLinkHtml = 'Like what you see? Visit the ' +\n",
              "            '<a target=\"_blank\" href=https://colab.research.google.com/notebooks/data_table.ipynb>data table notebook</a>'\n",
              "            + ' to learn more about interactive tables.';\n",
              "          element.innerHTML = '';\n",
              "          dataTable['output_type'] = 'display_data';\n",
              "          await google.colab.output.renderOutput(dataTable, element);\n",
              "          const docLink = document.createElement('div');\n",
              "          docLink.innerHTML = docLinkHtml;\n",
              "          element.appendChild(docLink);\n",
              "        }\n",
              "      </script>\n",
              "    </div>\n",
              "  </div>\n",
              "  "
            ],
            "text/plain": [
              "                     geometry                                            address\n",
              "0  POINT (-74.01562 40.71232)  The Rink at Brookfield Place with Gregory & Pe...\n",
              "1  POINT (-74.01165 40.71177)  Apple World Trade Center, 185, Greenwich Stree...\n",
              "2  POINT (-73.98285 40.76825)  Per Se, 10, Columbus Circle, Manhattan, New Yo...\n",
              "3  POINT (-74.00054 40.75391)  30 Hudson Yards, 30, 10th Avenue, Hudson Yards...\n",
              "4  POINT (-73.99050 40.75009)  West 33rd Street, Herald Square, Manhattan, Ne...\n",
              "5  POINT (-73.99106 40.74360)  40, West 25th Street, Manhattan Community Boar...\n",
              "6  POINT (-73.99223 40.72571)  Bond Street, NoHo, Manhattan, New York, 10012,..."
            ]
          },
          "metadata": {},
          "execution_count": 10
        }
      ]
    },
    {
      "cell_type": "markdown",
      "source": [
        "Check that the coordinate reference system of the geocoded result is correctly defined, and reproject the layer into UTM 18N (EPSG:26918):"
      ],
      "metadata": {
        "id": "EvrK93jU7OY1"
      }
    },
    {
      "cell_type": "code",
      "source": [
        "# REPLACE THE ERROR BELOW WITH YOUR OWN CODE\n",
        "# raise NotImplementedError()"
      ],
      "metadata": {
        "id": "gIbcojpH7NF0"
      },
      "execution_count": null,
      "outputs": []
    },
    {
      "cell_type": "code",
      "source": [
        "#NON-EDITABLE TEST CELL\n",
        "# Check layer crs\n",
        "geo.crs"
      ],
      "metadata": {
        "id": "LzjJmZAT7WBc",
        "colab": {
          "base_uri": "https://localhost:8080/"
        },
        "outputId": "ce460a74-3d19-4e22-9c82-a86f2dfeb20e"
      },
      "execution_count": null,
      "outputs": [
        {
          "output_type": "execute_result",
          "data": {
            "text/plain": [
              "<Geographic 2D CRS: EPSG:4326>\n",
              "Name: WGS 84\n",
              "Axis Info [ellipsoidal]:\n",
              "- Lat[north]: Geodetic latitude (degree)\n",
              "- Lon[east]: Geodetic longitude (degree)\n",
              "Area of Use:\n",
              "- name: World.\n",
              "- bounds: (-180.0, -90.0, 180.0, 90.0)\n",
              "Datum: World Geodetic System 1984 ensemble\n",
              "- Ellipsoid: WGS 84\n",
              "- Prime Meridian: Greenwich"
            ]
          },
          "metadata": {},
          "execution_count": 11
        }
      ]
    },
    {
      "cell_type": "code",
      "source": [
        "# Set the projection of 'geo' to 26918\n",
        "geo = geo.to_crs('epsg:26918')"
      ],
      "metadata": {
        "id": "uQKN2UXj7uwP"
      },
      "execution_count": null,
      "outputs": []
    },
    {
      "cell_type": "code",
      "source": [
        "#check whether the crs changed\n",
        "geo.crs"
      ],
      "metadata": {
        "colab": {
          "base_uri": "https://localhost:8080/"
        },
        "id": "0SG3ppn79FeO",
        "outputId": "a1161216-34c3-4574-e59a-dd7d88c92ada"
      },
      "execution_count": null,
      "outputs": [
        {
          "output_type": "execute_result",
          "data": {
            "text/plain": [
              "<Projected CRS: EPSG:26918>\n",
              "Name: NAD83 / UTM zone 18N\n",
              "Axis Info [cartesian]:\n",
              "- E[east]: Easting (metre)\n",
              "- N[north]: Northing (metre)\n",
              "Area of Use:\n",
              "- name: North America - between 78°W and 72°W - onshore and offshore. Canada - Nunavut; Ontario; Quebec. United States (USA) - Connecticut; Delaware; Maryland; Massachusetts; New Hampshire; New Jersey; New York; North Carolina; Pennsylvania; Virginia; Vermont.\n",
              "- bounds: (-78.0, 28.28, -72.0, 84.0)\n",
              "Coordinate Operation:\n",
              "- name: UTM zone 18N\n",
              "- method: Transverse Mercator\n",
              "Datum: North American Datum 1983\n",
              "- Ellipsoid: GRS 1980\n",
              "- Prime Meridian: Greenwich"
            ]
          },
          "metadata": {},
          "execution_count": 13
        }
      ]
    },
    {
      "cell_type": "markdown",
      "source": [
        "- Make a table join between the geocoded addresses (``geo``) and the original addresses (``data``) in order to link the numerical coordinates and  the `id` and `name` of each shopping center. \n",
        "- Store the output in a variable called ``geodata``"
      ],
      "metadata": {
        "id": "OoyP3bbU7Yv8"
      }
    },
    {
      "cell_type": "code",
      "source": [
        "# Join the tables\n",
        "geodata = geo.join(data)\n"
      ],
      "metadata": {
        "id": "XYxCcHdx7XD1"
      },
      "execution_count": null,
      "outputs": []
    },
    {
      "cell_type": "code",
      "source": [
        "#NON-EDITABLE TEST CELL\n",
        "# Check the join output\n",
        "print(geodata.head())"
      ],
      "metadata": {
        "id": "F-2ucYp27bfM",
        "colab": {
          "base_uri": "https://localhost:8080/"
        },
        "outputId": "9ebbbd3e-373f-455b-dd24-acc8aa56dfdc"
      },
      "execution_count": null,
      "outputs": [
        {
          "output_type": "stream",
          "name": "stdout",
          "text": [
            "                         geometry  ...                                   addr\n",
            "0  POINT (583147.497 4507288.276)  ...       230 Vesey St, New York, NY 10281\n",
            "1  POINT (583483.345 4507230.975)  ...   185 Greenwich St, New York, NY 10007\n",
            "2  POINT (585843.305 4513529.272)  ...    10 Columbus Cir, New York, NY 10019\n",
            "3  POINT (584368.973 4511919.823)  ...    30 Hudson Yards, New York, NY 10001\n",
            "4  POINT (585221.095 4511505.023)  ...       00 W 33rd St, New York, NY 10001\n",
            "\n",
            "[5 rows x 5 columns]\n"
          ]
        }
      ]
    },
    {
      "cell_type": "code",
      "source": [
        "geodata.shape"
      ],
      "metadata": {
        "colab": {
          "base_uri": "https://localhost:8080/"
        },
        "id": "73BkL5bB_uQg",
        "outputId": "40a47384-2741-42ed-bb50-5cb4fcb4e4c9"
      },
      "execution_count": null,
      "outputs": [
        {
          "output_type": "execute_result",
          "data": {
            "text/plain": [
              "(7, 5)"
            ]
          },
          "metadata": {},
          "execution_count": 16
        }
      ]
    },
    {
      "cell_type": "markdown",
      "source": [
        "- Save the output as a Shapefile called `shopping_centers.shp` "
      ],
      "metadata": {
        "id": "B8tvPwQB7dh8"
      }
    },
    {
      "cell_type": "code",
      "source": [
        "# Define output filepath\n",
        "out_fp = \"../Data/shopping_centers.shp\"\n",
        "\n",
        "# Save file\n",
        "geodata.to_file(out_fp)\n"
      ],
      "metadata": {
        "id": "O7UyEYCb7cW8"
      },
      "execution_count": null,
      "outputs": []
    },
    {
      "cell_type": "code",
      "source": [
        "#NON-EDITABLE TEST CELL\n",
        "# Print info about output file\n",
        "print(\"Geocoded output is stored in this file:\", out_fp)"
      ],
      "metadata": {
        "id": "Jtl0nt_X7fsN",
        "colab": {
          "base_uri": "https://localhost:8080/"
        },
        "outputId": "f3f4af15-4e87-4bad-9e91-9fc0cec0b435"
      },
      "execution_count": null,
      "outputs": [
        {
          "output_type": "stream",
          "name": "stdout",
          "text": [
            "Geocoded output is stored in this file: ../Data/shopping_centers.shp\n"
          ]
        }
      ]
    },
    {
      "cell_type": "markdown",
      "source": [
        "## Problem 2: Create buffers around shopping centers\n",
        "\n",
        "Let's continue with our case study and calculate a 1.5 km buffer around the geocoded points. \n",
        "\n",
        "\n",
        "- Start by creating a new column called `buffer` to ``geodata`` GeoDataFrame:"
      ],
      "metadata": {
        "id": "-Ygr6zR871l0"
      }
    },
    {
      "cell_type": "code",
      "source": [
        "geodata['buffer'] = geodata.buffer(1500)"
      ],
      "metadata": {
        "id": "zJil1cFbAVhT"
      },
      "execution_count": null,
      "outputs": []
    },
    {
      "cell_type": "code",
      "source": [
        "#check dataframe\n",
        "geodata"
      ],
      "metadata": {
        "colab": {
          "base_uri": "https://localhost:8080/",
          "height": 269
        },
        "id": "B7cixlmgBI5p",
        "outputId": "558a66f4-6d76-4898-959b-953e95aa959c"
      },
      "execution_count": null,
      "outputs": [
        {
          "output_type": "execute_result",
          "data": {
            "text/html": [
              "\n",
              "  <div id=\"df-707a341c-d2c4-46a2-a20f-8371f03527ea\">\n",
              "    <div class=\"colab-df-container\">\n",
              "      <div>\n",
              "<style scoped>\n",
              "    .dataframe tbody tr th:only-of-type {\n",
              "        vertical-align: middle;\n",
              "    }\n",
              "\n",
              "    .dataframe tbody tr th {\n",
              "        vertical-align: top;\n",
              "    }\n",
              "\n",
              "    .dataframe thead th {\n",
              "        text-align: right;\n",
              "    }\n",
              "</style>\n",
              "<table border=\"1\" class=\"dataframe\">\n",
              "  <thead>\n",
              "    <tr style=\"text-align: right;\">\n",
              "      <th></th>\n",
              "      <th>geometry</th>\n",
              "      <th>address</th>\n",
              "      <th>id</th>\n",
              "      <th>name</th>\n",
              "      <th>addr</th>\n",
              "      <th>buffer</th>\n",
              "    </tr>\n",
              "  </thead>\n",
              "  <tbody>\n",
              "    <tr>\n",
              "      <th>0</th>\n",
              "      <td>POINT (583147.497 4507288.276)</td>\n",
              "      <td>The Rink at Brookfield Place with Gregory &amp; Pe...</td>\n",
              "      <td>1</td>\n",
              "      <td>Brookfield Place</td>\n",
              "      <td>230 Vesey St, New York, NY 10281</td>\n",
              "      <td>POLYGON ((584647.497 4507288.276, 584640.274 4...</td>\n",
              "    </tr>\n",
              "    <tr>\n",
              "      <th>1</th>\n",
              "      <td>POINT (583483.345 4507230.975)</td>\n",
              "      <td>Apple World Trade Center, 185, Greenwich Stree...</td>\n",
              "      <td>2</td>\n",
              "      <td>Westfield World Trade Center</td>\n",
              "      <td>185 Greenwich St, New York, NY 10007</td>\n",
              "      <td>POLYGON ((584983.345 4507230.975, 584976.122 4...</td>\n",
              "    </tr>\n",
              "    <tr>\n",
              "      <th>2</th>\n",
              "      <td>POINT (585843.305 4513529.272)</td>\n",
              "      <td>Per Se, 10, Columbus Circle, Manhattan, New Yo...</td>\n",
              "      <td>3</td>\n",
              "      <td>The Shops at Columbus Circle</td>\n",
              "      <td>10 Columbus Cir, New York, NY 10019</td>\n",
              "      <td>POLYGON ((587343.305 4513529.272, 587336.082 4...</td>\n",
              "    </tr>\n",
              "    <tr>\n",
              "      <th>3</th>\n",
              "      <td>POINT (584368.973 4511919.823)</td>\n",
              "      <td>30 Hudson Yards, 30, 10th Avenue, Hudson Yards...</td>\n",
              "      <td>4</td>\n",
              "      <td>Hudson Yards</td>\n",
              "      <td>30 Hudson Yards, New York, NY 10001</td>\n",
              "      <td>POLYGON ((585868.973 4511919.823, 585861.750 4...</td>\n",
              "    </tr>\n",
              "    <tr>\n",
              "      <th>4</th>\n",
              "      <td>POINT (585221.095 4511505.023)</td>\n",
              "      <td>West 33rd Street, Herald Square, Manhattan, Ne...</td>\n",
              "      <td>5</td>\n",
              "      <td>Manhattan Mall</td>\n",
              "      <td>00 W 33rd St, New York, NY 10001</td>\n",
              "      <td>POLYGON ((586721.095 4511505.023, 586713.872 4...</td>\n",
              "    </tr>\n",
              "    <tr>\n",
              "      <th>5</th>\n",
              "      <td>POINT (585181.965 4510784.896)</td>\n",
              "      <td>40, West 25th Street, Manhattan Community Boar...</td>\n",
              "      <td>6</td>\n",
              "      <td>Showplace Luxury Art Design Vintage</td>\n",
              "      <td>40 W 25th St, New York, NY 10010</td>\n",
              "      <td>POLYGON ((586681.965 4510784.896, 586674.742 4...</td>\n",
              "    </tr>\n",
              "    <tr>\n",
              "      <th>6</th>\n",
              "      <td>POINT (585105.637 4508797.488)</td>\n",
              "      <td>Bond Street, NoHo, Manhattan, New York, 10012,...</td>\n",
              "      <td>7</td>\n",
              "      <td>SHOWFIELDS</td>\n",
              "      <td>11 Bond St, New York, NY 10012</td>\n",
              "      <td>POLYGON ((586605.637 4508797.488, 586598.414 4...</td>\n",
              "    </tr>\n",
              "  </tbody>\n",
              "</table>\n",
              "</div>\n",
              "      <button class=\"colab-df-convert\" onclick=\"convertToInteractive('df-707a341c-d2c4-46a2-a20f-8371f03527ea')\"\n",
              "              title=\"Convert this dataframe to an interactive table.\"\n",
              "              style=\"display:none;\">\n",
              "        \n",
              "  <svg xmlns=\"http://www.w3.org/2000/svg\" height=\"24px\"viewBox=\"0 0 24 24\"\n",
              "       width=\"24px\">\n",
              "    <path d=\"M0 0h24v24H0V0z\" fill=\"none\"/>\n",
              "    <path d=\"M18.56 5.44l.94 2.06.94-2.06 2.06-.94-2.06-.94-.94-2.06-.94 2.06-2.06.94zm-11 1L8.5 8.5l.94-2.06 2.06-.94-2.06-.94L8.5 2.5l-.94 2.06-2.06.94zm10 10l.94 2.06.94-2.06 2.06-.94-2.06-.94-.94-2.06-.94 2.06-2.06.94z\"/><path d=\"M17.41 7.96l-1.37-1.37c-.4-.4-.92-.59-1.43-.59-.52 0-1.04.2-1.43.59L10.3 9.45l-7.72 7.72c-.78.78-.78 2.05 0 2.83L4 21.41c.39.39.9.59 1.41.59.51 0 1.02-.2 1.41-.59l7.78-7.78 2.81-2.81c.8-.78.8-2.07 0-2.86zM5.41 20L4 18.59l7.72-7.72 1.47 1.35L5.41 20z\"/>\n",
              "  </svg>\n",
              "      </button>\n",
              "      \n",
              "  <style>\n",
              "    .colab-df-container {\n",
              "      display:flex;\n",
              "      flex-wrap:wrap;\n",
              "      gap: 12px;\n",
              "    }\n",
              "\n",
              "    .colab-df-convert {\n",
              "      background-color: #E8F0FE;\n",
              "      border: none;\n",
              "      border-radius: 50%;\n",
              "      cursor: pointer;\n",
              "      display: none;\n",
              "      fill: #1967D2;\n",
              "      height: 32px;\n",
              "      padding: 0 0 0 0;\n",
              "      width: 32px;\n",
              "    }\n",
              "\n",
              "    .colab-df-convert:hover {\n",
              "      background-color: #E2EBFA;\n",
              "      box-shadow: 0px 1px 2px rgba(60, 64, 67, 0.3), 0px 1px 3px 1px rgba(60, 64, 67, 0.15);\n",
              "      fill: #174EA6;\n",
              "    }\n",
              "\n",
              "    [theme=dark] .colab-df-convert {\n",
              "      background-color: #3B4455;\n",
              "      fill: #D2E3FC;\n",
              "    }\n",
              "\n",
              "    [theme=dark] .colab-df-convert:hover {\n",
              "      background-color: #434B5C;\n",
              "      box-shadow: 0px 1px 3px 1px rgba(0, 0, 0, 0.15);\n",
              "      filter: drop-shadow(0px 1px 2px rgba(0, 0, 0, 0.3));\n",
              "      fill: #FFFFFF;\n",
              "    }\n",
              "  </style>\n",
              "\n",
              "      <script>\n",
              "        const buttonEl =\n",
              "          document.querySelector('#df-707a341c-d2c4-46a2-a20f-8371f03527ea button.colab-df-convert');\n",
              "        buttonEl.style.display =\n",
              "          google.colab.kernel.accessAllowed ? 'block' : 'none';\n",
              "\n",
              "        async function convertToInteractive(key) {\n",
              "          const element = document.querySelector('#df-707a341c-d2c4-46a2-a20f-8371f03527ea');\n",
              "          const dataTable =\n",
              "            await google.colab.kernel.invokeFunction('convertToInteractive',\n",
              "                                                     [key], {});\n",
              "          if (!dataTable) return;\n",
              "\n",
              "          const docLinkHtml = 'Like what you see? Visit the ' +\n",
              "            '<a target=\"_blank\" href=https://colab.research.google.com/notebooks/data_table.ipynb>data table notebook</a>'\n",
              "            + ' to learn more about interactive tables.';\n",
              "          element.innerHTML = '';\n",
              "          dataTable['output_type'] = 'display_data';\n",
              "          await google.colab.output.renderOutput(dataTable, element);\n",
              "          const docLink = document.createElement('div');\n",
              "          docLink.innerHTML = docLinkHtml;\n",
              "          element.appendChild(docLink);\n",
              "        }\n",
              "      </script>\n",
              "    </div>\n",
              "  </div>\n",
              "  "
            ],
            "text/plain": [
              "                         geometry  ...                                             buffer\n",
              "0  POINT (583147.497 4507288.276)  ...  POLYGON ((584647.497 4507288.276, 584640.274 4...\n",
              "1  POINT (583483.345 4507230.975)  ...  POLYGON ((584983.345 4507230.975, 584976.122 4...\n",
              "2  POINT (585843.305 4513529.272)  ...  POLYGON ((587343.305 4513529.272, 587336.082 4...\n",
              "3  POINT (584368.973 4511919.823)  ...  POLYGON ((585868.973 4511919.823, 585861.750 4...\n",
              "4  POINT (585221.095 4511505.023)  ...  POLYGON ((586721.095 4511505.023, 586713.872 4...\n",
              "5  POINT (585181.965 4510784.896)  ...  POLYGON ((586681.965 4510784.896, 586674.742 4...\n",
              "6  POINT (585105.637 4508797.488)  ...  POLYGON ((586605.637 4508797.488, 586598.414 4...\n",
              "\n",
              "[7 rows x 6 columns]"
            ]
          },
          "metadata": {},
          "execution_count": 20
        }
      ]
    },
    {
      "cell_type": "markdown",
      "source": [
        "- Calculate a 1.5 km buffer for each geocoded point. Store the buffer geometry in the new `buffer` column.\n",
        "\n",
        "Here, you can use the [GeoDataFrame buffer() method](http://geopandas.org/geometric_manipulations.html#GeoSeries.buffer), which uses Shapely's [buffer](http://toblerity.org/shapely/manual.html#object.buffer) in the bacground. You only need to use the `distance` -parameter, don't worry about the other parameters."
      ],
      "metadata": {
        "id": "xlPr0wv575OV"
      }
    },
    {
      "cell_type": "code",
      "source": [
        "#NON-EDITABLE TEST CELL\n",
        "print(geodata.head())"
      ],
      "metadata": {
        "id": "e4NRZ3ai79pl",
        "colab": {
          "base_uri": "https://localhost:8080/"
        },
        "outputId": "8de8cfde-54ec-45c8-8aaa-74f8fcde0295"
      },
      "execution_count": null,
      "outputs": [
        {
          "output_type": "stream",
          "name": "stdout",
          "text": [
            "                         geometry  ...                                             buffer\n",
            "0  POINT (583147.497 4507288.276)  ...  POLYGON ((584647.497 4507288.276, 584640.274 4...\n",
            "1  POINT (583483.345 4507230.975)  ...  POLYGON ((584983.345 4507230.975, 584976.122 4...\n",
            "2  POINT (585843.305 4513529.272)  ...  POLYGON ((587343.305 4513529.272, 587336.082 4...\n",
            "3  POINT (584368.973 4511919.823)  ...  POLYGON ((585868.973 4511919.823, 585861.750 4...\n",
            "4  POINT (585221.095 4511505.023)  ...  POLYGON ((586721.095 4511505.023, 586713.872 4...\n",
            "\n",
            "[5 rows x 6 columns]\n"
          ]
        }
      ]
    },
    {
      "cell_type": "code",
      "source": [
        "#NON-EDITABLE TEST CELL\n",
        "# Check the data type of the first value in the buffer-column\n",
        "print(type(geodata.at[0,'buffer']))"
      ],
      "metadata": {
        "id": "kqCBiGeS7-t8",
        "colab": {
          "base_uri": "https://localhost:8080/"
        },
        "outputId": "fe10729b-2ba7-41e6-8b57-dedde7964045"
      },
      "execution_count": null,
      "outputs": [
        {
          "output_type": "stream",
          "name": "stdout",
          "text": [
            "<class 'shapely.geometry.polygon.Polygon'>\n"
          ]
        }
      ]
    },
    {
      "cell_type": "code",
      "source": [
        "#NON-EDITABLE TEST CELL\n",
        "# Check the areas of your buffers in km^2\n",
        "import geopandas as gpd\n",
        "print(round(gpd.GeoSeries(geodata[\"buffer\"]).area / 1000000))"
      ],
      "metadata": {
        "id": "15kqVKPI8AHF",
        "colab": {
          "base_uri": "https://localhost:8080/"
        },
        "outputId": "3ea0ae8c-291b-4257-84ec-cc57e9257f45"
      },
      "execution_count": null,
      "outputs": [
        {
          "output_type": "stream",
          "name": "stdout",
          "text": [
            "0    7.0\n",
            "1    7.0\n",
            "2    7.0\n",
            "3    7.0\n",
            "4    7.0\n",
            "5    7.0\n",
            "6    7.0\n",
            "dtype: float64\n"
          ]
        }
      ]
    },
    {
      "cell_type": "markdown",
      "source": [
        "- Replace the values in `geometry` column with the values of `buffer` column:"
      ],
      "metadata": {
        "id": "kwnDfMdW8CiL"
      }
    },
    {
      "cell_type": "code",
      "source": [
        "geodata['geometry'] = geodata['buffer']"
      ],
      "metadata": {
        "id": "2acUJ2psC7Hm"
      },
      "execution_count": null,
      "outputs": []
    },
    {
      "cell_type": "code",
      "source": [
        "#check values\n",
        "geodata"
      ],
      "metadata": {
        "colab": {
          "base_uri": "https://localhost:8080/",
          "height": 434
        },
        "id": "fs5bmAz1DC32",
        "outputId": "97ac6d6e-0c5f-45f5-a01a-083708135477"
      },
      "execution_count": null,
      "outputs": [
        {
          "output_type": "execute_result",
          "data": {
            "text/html": [
              "\n",
              "  <div id=\"df-0f8b4318-fc8a-4290-b015-9e79dfe7ea2b\">\n",
              "    <div class=\"colab-df-container\">\n",
              "      <div>\n",
              "<style scoped>\n",
              "    .dataframe tbody tr th:only-of-type {\n",
              "        vertical-align: middle;\n",
              "    }\n",
              "\n",
              "    .dataframe tbody tr th {\n",
              "        vertical-align: top;\n",
              "    }\n",
              "\n",
              "    .dataframe thead th {\n",
              "        text-align: right;\n",
              "    }\n",
              "</style>\n",
              "<table border=\"1\" class=\"dataframe\">\n",
              "  <thead>\n",
              "    <tr style=\"text-align: right;\">\n",
              "      <th></th>\n",
              "      <th>geometry</th>\n",
              "      <th>address</th>\n",
              "      <th>id</th>\n",
              "      <th>name</th>\n",
              "      <th>addr</th>\n",
              "      <th>buffer</th>\n",
              "    </tr>\n",
              "  </thead>\n",
              "  <tbody>\n",
              "    <tr>\n",
              "      <th>0</th>\n",
              "      <td>POLYGON ((584647.497 4507288.276, 584640.274 4...</td>\n",
              "      <td>The Rink at Brookfield Place with Gregory &amp; Pe...</td>\n",
              "      <td>1</td>\n",
              "      <td>Brookfield Place</td>\n",
              "      <td>230 Vesey St, New York, NY 10281</td>\n",
              "      <td>POLYGON ((584647.497 4507288.276, 584640.274 4...</td>\n",
              "    </tr>\n",
              "    <tr>\n",
              "      <th>1</th>\n",
              "      <td>POLYGON ((584983.345 4507230.975, 584976.122 4...</td>\n",
              "      <td>Apple World Trade Center, 185, Greenwich Stree...</td>\n",
              "      <td>2</td>\n",
              "      <td>Westfield World Trade Center</td>\n",
              "      <td>185 Greenwich St, New York, NY 10007</td>\n",
              "      <td>POLYGON ((584983.345 4507230.975, 584976.122 4...</td>\n",
              "    </tr>\n",
              "    <tr>\n",
              "      <th>2</th>\n",
              "      <td>POLYGON ((587343.305 4513529.272, 587336.082 4...</td>\n",
              "      <td>Per Se, 10, Columbus Circle, Manhattan, New Yo...</td>\n",
              "      <td>3</td>\n",
              "      <td>The Shops at Columbus Circle</td>\n",
              "      <td>10 Columbus Cir, New York, NY 10019</td>\n",
              "      <td>POLYGON ((587343.305 4513529.272, 587336.082 4...</td>\n",
              "    </tr>\n",
              "    <tr>\n",
              "      <th>3</th>\n",
              "      <td>POLYGON ((585868.973 4511919.823, 585861.750 4...</td>\n",
              "      <td>30 Hudson Yards, 30, 10th Avenue, Hudson Yards...</td>\n",
              "      <td>4</td>\n",
              "      <td>Hudson Yards</td>\n",
              "      <td>30 Hudson Yards, New York, NY 10001</td>\n",
              "      <td>POLYGON ((585868.973 4511919.823, 585861.750 4...</td>\n",
              "    </tr>\n",
              "    <tr>\n",
              "      <th>4</th>\n",
              "      <td>POLYGON ((586721.095 4511505.023, 586713.872 4...</td>\n",
              "      <td>West 33rd Street, Herald Square, Manhattan, Ne...</td>\n",
              "      <td>5</td>\n",
              "      <td>Manhattan Mall</td>\n",
              "      <td>00 W 33rd St, New York, NY 10001</td>\n",
              "      <td>POLYGON ((586721.095 4511505.023, 586713.872 4...</td>\n",
              "    </tr>\n",
              "    <tr>\n",
              "      <th>5</th>\n",
              "      <td>POLYGON ((586681.965 4510784.896, 586674.742 4...</td>\n",
              "      <td>40, West 25th Street, Manhattan Community Boar...</td>\n",
              "      <td>6</td>\n",
              "      <td>Showplace Luxury Art Design Vintage</td>\n",
              "      <td>40 W 25th St, New York, NY 10010</td>\n",
              "      <td>POLYGON ((586681.965 4510784.896, 586674.742 4...</td>\n",
              "    </tr>\n",
              "    <tr>\n",
              "      <th>6</th>\n",
              "      <td>POLYGON ((586605.637 4508797.488, 586598.414 4...</td>\n",
              "      <td>Bond Street, NoHo, Manhattan, New York, 10012,...</td>\n",
              "      <td>7</td>\n",
              "      <td>SHOWFIELDS</td>\n",
              "      <td>11 Bond St, New York, NY 10012</td>\n",
              "      <td>POLYGON ((586605.637 4508797.488, 586598.414 4...</td>\n",
              "    </tr>\n",
              "  </tbody>\n",
              "</table>\n",
              "</div>\n",
              "      <button class=\"colab-df-convert\" onclick=\"convertToInteractive('df-0f8b4318-fc8a-4290-b015-9e79dfe7ea2b')\"\n",
              "              title=\"Convert this dataframe to an interactive table.\"\n",
              "              style=\"display:none;\">\n",
              "        \n",
              "  <svg xmlns=\"http://www.w3.org/2000/svg\" height=\"24px\"viewBox=\"0 0 24 24\"\n",
              "       width=\"24px\">\n",
              "    <path d=\"M0 0h24v24H0V0z\" fill=\"none\"/>\n",
              "    <path d=\"M18.56 5.44l.94 2.06.94-2.06 2.06-.94-2.06-.94-.94-2.06-.94 2.06-2.06.94zm-11 1L8.5 8.5l.94-2.06 2.06-.94-2.06-.94L8.5 2.5l-.94 2.06-2.06.94zm10 10l.94 2.06.94-2.06 2.06-.94-2.06-.94-.94-2.06-.94 2.06-2.06.94z\"/><path d=\"M17.41 7.96l-1.37-1.37c-.4-.4-.92-.59-1.43-.59-.52 0-1.04.2-1.43.59L10.3 9.45l-7.72 7.72c-.78.78-.78 2.05 0 2.83L4 21.41c.39.39.9.59 1.41.59.51 0 1.02-.2 1.41-.59l7.78-7.78 2.81-2.81c.8-.78.8-2.07 0-2.86zM5.41 20L4 18.59l7.72-7.72 1.47 1.35L5.41 20z\"/>\n",
              "  </svg>\n",
              "      </button>\n",
              "      \n",
              "  <style>\n",
              "    .colab-df-container {\n",
              "      display:flex;\n",
              "      flex-wrap:wrap;\n",
              "      gap: 12px;\n",
              "    }\n",
              "\n",
              "    .colab-df-convert {\n",
              "      background-color: #E8F0FE;\n",
              "      border: none;\n",
              "      border-radius: 50%;\n",
              "      cursor: pointer;\n",
              "      display: none;\n",
              "      fill: #1967D2;\n",
              "      height: 32px;\n",
              "      padding: 0 0 0 0;\n",
              "      width: 32px;\n",
              "    }\n",
              "\n",
              "    .colab-df-convert:hover {\n",
              "      background-color: #E2EBFA;\n",
              "      box-shadow: 0px 1px 2px rgba(60, 64, 67, 0.3), 0px 1px 3px 1px rgba(60, 64, 67, 0.15);\n",
              "      fill: #174EA6;\n",
              "    }\n",
              "\n",
              "    [theme=dark] .colab-df-convert {\n",
              "      background-color: #3B4455;\n",
              "      fill: #D2E3FC;\n",
              "    }\n",
              "\n",
              "    [theme=dark] .colab-df-convert:hover {\n",
              "      background-color: #434B5C;\n",
              "      box-shadow: 0px 1px 3px 1px rgba(0, 0, 0, 0.15);\n",
              "      filter: drop-shadow(0px 1px 2px rgba(0, 0, 0, 0.3));\n",
              "      fill: #FFFFFF;\n",
              "    }\n",
              "  </style>\n",
              "\n",
              "      <script>\n",
              "        const buttonEl =\n",
              "          document.querySelector('#df-0f8b4318-fc8a-4290-b015-9e79dfe7ea2b button.colab-df-convert');\n",
              "        buttonEl.style.display =\n",
              "          google.colab.kernel.accessAllowed ? 'block' : 'none';\n",
              "\n",
              "        async function convertToInteractive(key) {\n",
              "          const element = document.querySelector('#df-0f8b4318-fc8a-4290-b015-9e79dfe7ea2b');\n",
              "          const dataTable =\n",
              "            await google.colab.kernel.invokeFunction('convertToInteractive',\n",
              "                                                     [key], {});\n",
              "          if (!dataTable) return;\n",
              "\n",
              "          const docLinkHtml = 'Like what you see? Visit the ' +\n",
              "            '<a target=\"_blank\" href=https://colab.research.google.com/notebooks/data_table.ipynb>data table notebook</a>'\n",
              "            + ' to learn more about interactive tables.';\n",
              "          element.innerHTML = '';\n",
              "          dataTable['output_type'] = 'display_data';\n",
              "          await google.colab.output.renderOutput(dataTable, element);\n",
              "          const docLink = document.createElement('div');\n",
              "          docLink.innerHTML = docLinkHtml;\n",
              "          element.appendChild(docLink);\n",
              "        }\n",
              "      </script>\n",
              "    </div>\n",
              "  </div>\n",
              "  "
            ],
            "text/plain": [
              "                                            geometry  ...                                             buffer\n",
              "0  POLYGON ((584647.497 4507288.276, 584640.274 4...  ...  POLYGON ((584647.497 4507288.276, 584640.274 4...\n",
              "1  POLYGON ((584983.345 4507230.975, 584976.122 4...  ...  POLYGON ((584983.345 4507230.975, 584976.122 4...\n",
              "2  POLYGON ((587343.305 4513529.272, 587336.082 4...  ...  POLYGON ((587343.305 4513529.272, 587336.082 4...\n",
              "3  POLYGON ((585868.973 4511919.823, 585861.750 4...  ...  POLYGON ((585868.973 4511919.823, 585861.750 4...\n",
              "4  POLYGON ((586721.095 4511505.023, 586713.872 4...  ...  POLYGON ((586721.095 4511505.023, 586713.872 4...\n",
              "5  POLYGON ((586681.965 4510784.896, 586674.742 4...  ...  POLYGON ((586681.965 4510784.896, 586674.742 4...\n",
              "6  POLYGON ((586605.637 4508797.488, 586598.414 4...  ...  POLYGON ((586605.637 4508797.488, 586598.414 4...\n",
              "\n",
              "[7 rows x 6 columns]"
            ]
          },
          "metadata": {},
          "execution_count": 25
        }
      ]
    },
    {
      "cell_type": "code",
      "source": [
        "#NON-EDITABLE TEST CELL\n",
        "print(geodata.head())"
      ],
      "metadata": {
        "id": "56W8XNBm8EAM",
        "colab": {
          "base_uri": "https://localhost:8080/"
        },
        "outputId": "d0f2e1de-14ab-4d84-946e-616e38417a22"
      },
      "execution_count": null,
      "outputs": [
        {
          "output_type": "stream",
          "name": "stdout",
          "text": [
            "                                            geometry  ...                                             buffer\n",
            "0  POLYGON ((584647.497 4507288.276, 584640.274 4...  ...  POLYGON ((584647.497 4507288.276, 584640.274 4...\n",
            "1  POLYGON ((584983.345 4507230.975, 584976.122 4...  ...  POLYGON ((584983.345 4507230.975, 584976.122 4...\n",
            "2  POLYGON ((587343.305 4513529.272, 587336.082 4...  ...  POLYGON ((587343.305 4513529.272, 587336.082 4...\n",
            "3  POLYGON ((585868.973 4511919.823, 585861.750 4...  ...  POLYGON ((585868.973 4511919.823, 585861.750 4...\n",
            "4  POLYGON ((586721.095 4511505.023, 586713.872 4...  ...  POLYGON ((586721.095 4511505.023, 586713.872 4...\n",
            "\n",
            "[5 rows x 6 columns]\n"
          ]
        }
      ]
    },
    {
      "cell_type": "markdown",
      "source": [
        "Optional: at this point, you can drop out unnecessary columns from the geodataframe. In the next problem, \n",
        "we will only need these columns: `'id', 'name', 'geometry'`"
      ],
      "metadata": {
        "id": "eH3SeYzN8Gf8"
      }
    },
    {
      "cell_type": "code",
      "source": [
        "geodata.columns"
      ],
      "metadata": {
        "colab": {
          "base_uri": "https://localhost:8080/"
        },
        "id": "VcuhPci3FNNK",
        "outputId": "29ec6203-a00a-4cab-dac1-0e35ec3922d2"
      },
      "execution_count": null,
      "outputs": [
        {
          "output_type": "execute_result",
          "data": {
            "text/plain": [
              "Index(['geometry', 'address', 'id', ' name', ' addr', 'buffer'], dtype='object')"
            ]
          },
          "metadata": {},
          "execution_count": 27
        }
      ]
    },
    {
      "cell_type": "code",
      "source": [
        "geodata_n= geodata[['geometry', 'id', ' name']]"
      ],
      "metadata": {
        "id": "PflPxRZ-8E4M"
      },
      "execution_count": null,
      "outputs": []
    },
    {
      "cell_type": "markdown",
      "source": [
        "## Problem 3: How many people live near shopping centers? \n",
        "\n",
        "Last step in our analysis is to make a spatial join between our buffer layer and population data in order to find out **how many people live near each shopping center**. We will use the `nyc_census_blocks.shp` for population information.\n",
        "\n",
        "The coordinate reference system of the population data is **UTM 18N (EPSG:26918)**.\n",
        "\n",
        "**Steps:**\n",
        "\n",
        "- Read the population data into a geodataframe\n",
        "\n",
        "- Select only the useful columns from the population data: ``'POPN_TOTAL'`` and ``'geometry'`` \n",
        "\n",
        "- Make a spatial join between your buffered point layer and population layer. Join the information now from buffer layer **into the population layer**\n",
        "\n",
        "- Group the joined layer by shopping center index\n",
        "\n",
        "- Calculate the sum of population living within 1.5 km for each shopping center.\n",
        "\n",
        "**Finally:**\n",
        "\n",
        "- Print out the population living within 1.5 km from each shopping center.\n",
        "\n",
        "**Final print out should contain both the shopping center name and population count**, for example: `26532 people live within 1.5 km from Brookfield Place`.\n",
        "\n",
        "*Feel free to divide your solution into several codeblocks! Remember to comment your code  :)*"
      ],
      "metadata": {
        "id": "RYMA1Y5u8Iy0"
      }
    },
    {
      "cell_type": "markdown",
      "source": [
        "intersect with buffer area\n",
        "join census with buffer layer\n",
        "so we have both shopping centre name and layer"
      ],
      "metadata": {
        "id": "kbo9P-kz4kBr"
      }
    },
    {
      "cell_type": "code",
      "source": [
        "# Read population data into a variable `pop`. \n",
        "pop = gpd.read_file(\"/content/drive/MyDrive/GEOG485/Data/nyc_shapefiles/nyc_census_blocks.shp\")"
      ],
      "metadata": {
        "id": "wFGJ_rTC8H7M"
      },
      "execution_count": null,
      "outputs": []
    },
    {
      "cell_type": "code",
      "source": [
        "# Remember to check the crs info! \n",
        "pop.crs\n",
        "# crs is the same as the geodataset"
      ],
      "metadata": {
        "colab": {
          "base_uri": "https://localhost:8080/"
        },
        "id": "zJ74nv6XFwNy",
        "outputId": "3fc181c8-0725-41b1-ab00-4fd7dfe0b6ff"
      },
      "execution_count": null,
      "outputs": [
        {
          "output_type": "execute_result",
          "data": {
            "text/plain": [
              "<Projected CRS: EPSG:26918>\n",
              "Name: NAD83 / UTM zone 18N\n",
              "Axis Info [cartesian]:\n",
              "- E[east]: Easting (metre)\n",
              "- N[north]: Northing (metre)\n",
              "Area of Use:\n",
              "- name: North America - between 78°W and 72°W - onshore and offshore. Canada - Nunavut; Ontario; Quebec. United States (USA) - Connecticut; Delaware; Maryland; Massachusetts; New Hampshire; New Jersey; New York; North Carolina; Pennsylvania; Virginia; Vermont.\n",
              "- bounds: (-78.0, 28.28, -72.0, 84.0)\n",
              "Coordinate Operation:\n",
              "- name: UTM zone 18N\n",
              "- method: Transverse Mercator\n",
              "Datum: North American Datum 1983\n",
              "- Ellipsoid: GRS 1980\n",
              "- Prime Meridian: Greenwich"
            ]
          },
          "metadata": {},
          "execution_count": 30
        }
      ]
    },
    {
      "cell_type": "code",
      "source": [
        "#NON-EDITABLE TEST CELL\n",
        "# Check your input data\n",
        "print(\"Number of rows:\", len(pop))\n",
        "print(pop.head(3))"
      ],
      "metadata": {
        "id": "455XlrYu-tAE",
        "colab": {
          "base_uri": "https://localhost:8080/"
        },
        "outputId": "9455eddd-1e24-4414-e45c-f4733fce2516"
      },
      "execution_count": null,
      "outputs": [
        {
          "output_type": "stream",
          "name": "stdout",
          "text": [
            "Number of rows: 38794\n",
            "             BLKID  ...                                           geometry\n",
            "0  360850009001000  ...  POLYGON ((577856.547 4499583.235, 577862.635 4...\n",
            "1  360850020011000  ...  POLYGON ((578620.717 4495974.818, 578535.358 4...\n",
            "2  360850040001000  ...  POLYGON ((577227.224 4495995.067, 577155.625 4...\n",
            "\n",
            "[3 rows x 9 columns]\n"
          ]
        }
      ]
    },
    {
      "cell_type": "code",
      "source": [
        "# to see the plot\n",
        "pop.plot()"
      ],
      "metadata": {
        "colab": {
          "base_uri": "https://localhost:8080/",
          "height": 293
        },
        "id": "YcAope2GF9n6",
        "outputId": "39eb2a81-f9a6-4b58-f1b0-cccc6489b910"
      },
      "execution_count": null,
      "outputs": [
        {
          "output_type": "execute_result",
          "data": {
            "text/plain": [
              "<matplotlib.axes._subplots.AxesSubplot at 0x7f60f3ef2e90>"
            ]
          },
          "metadata": {},
          "execution_count": 32
        },
        {
          "output_type": "display_data",
          "data": {
            "image/png": "[encoded data removed]",
            "text/plain": [
              "<Figure size 432x288 with 1 Axes>"
            ]
          },
          "metadata": {
            "needs_background": "light"
          }
        }
      ]
    },
    {
      "cell_type": "code",
      "source": [
        "#population distribution\n",
        "pop.plot(column = 'POPN_TOTAL')"
      ],
      "metadata": {
        "colab": {
          "base_uri": "https://localhost:8080/",
          "height": 293
        },
        "id": "Hg_a-dEwlmxH",
        "outputId": "5ede5f66-5ab0-4396-fc47-84137c088d82"
      },
      "execution_count": null,
      "outputs": [
        {
          "output_type": "execute_result",
          "data": {
            "text/plain": [
              "<matplotlib.axes._subplots.AxesSubplot at 0x7f60f3e7b850>"
            ]
          },
          "metadata": {},
          "execution_count": 50
        },
        {
          "output_type": "display_data",
          "data": {
            "image/png": "[encoded data removed]",
            "text/plain": [
              "<Figure size 432x288 with 1 Axes>"
            ]
          },
          "metadata": {
            "needs_background": "light"
          }
        }
      ]
    },
    {
      "cell_type": "code",
      "source": [
        "# since we need only pop_total and geometr\n",
        "pop=pop[['POPN_TOTAL', 'geometry']]"
      ],
      "metadata": {
        "id": "Io1f4tU_l9Sg"
      },
      "execution_count": null,
      "outputs": []
    },
    {
      "cell_type": "code",
      "source": [
        "# print pop to check\n",
        "pop"
      ],
      "metadata": {
        "colab": {
          "base_uri": "https://localhost:8080/",
          "height": 424
        },
        "id": "ZiavXxj9mMNm",
        "outputId": "1f16cce6-40a3-4acc-f843-b422b9dd1ed8"
      },
      "execution_count": null,
      "outputs": [
        {
          "output_type": "execute_result",
          "data": {
            "text/html": [
              "\n",
              "  <div id=\"df-ef9b6fa8-12e5-4030-8a64-db9e641a60b4\">\n",
              "    <div class=\"colab-df-container\">\n",
              "      <div>\n",
              "<style scoped>\n",
              "    .dataframe tbody tr th:only-of-type {\n",
              "        vertical-align: middle;\n",
              "    }\n",
              "\n",
              "    .dataframe tbody tr th {\n",
              "        vertical-align: top;\n",
              "    }\n",
              "\n",
              "    .dataframe thead th {\n",
              "        text-align: right;\n",
              "    }\n",
              "</style>\n",
              "<table border=\"1\" class=\"dataframe\">\n",
              "  <thead>\n",
              "    <tr style=\"text-align: right;\">\n",
              "      <th></th>\n",
              "      <th>POPN_TOTAL</th>\n",
              "      <th>geometry</th>\n",
              "    </tr>\n",
              "  </thead>\n",
              "  <tbody>\n",
              "    <tr>\n",
              "      <th>0</th>\n",
              "      <td>97</td>\n",
              "      <td>POLYGON ((577856.547 4499583.235, 577862.635 4...</td>\n",
              "    </tr>\n",
              "    <tr>\n",
              "      <th>1</th>\n",
              "      <td>66</td>\n",
              "      <td>POLYGON ((578620.717 4495974.818, 578535.358 4...</td>\n",
              "    </tr>\n",
              "    <tr>\n",
              "      <th>2</th>\n",
              "      <td>62</td>\n",
              "      <td>POLYGON ((577227.224 4495995.067, 577155.625 4...</td>\n",
              "    </tr>\n",
              "    <tr>\n",
              "      <th>3</th>\n",
              "      <td>137</td>\n",
              "      <td>POLYGON ((579037.033 4494421.770, 579000.015 4...</td>\n",
              "    </tr>\n",
              "    <tr>\n",
              "      <th>4</th>\n",
              "      <td>289</td>\n",
              "      <td>POLYGON ((577652.483 4494975.052, 577681.914 4...</td>\n",
              "    </tr>\n",
              "    <tr>\n",
              "      <th>...</th>\n",
              "      <td>...</td>\n",
              "      <td>...</td>\n",
              "    </tr>\n",
              "    <tr>\n",
              "      <th>38789</th>\n",
              "      <td>328</td>\n",
              "      <td>POLYGON ((592015.668 4526716.910, 591988.060 4...</td>\n",
              "    </tr>\n",
              "    <tr>\n",
              "      <th>38790</th>\n",
              "      <td>0</td>\n",
              "      <td>POLYGON ((592141.936 4526852.139, 592112.564 4...</td>\n",
              "    </tr>\n",
              "    <tr>\n",
              "      <th>38791</th>\n",
              "      <td>0</td>\n",
              "      <td>POLYGON ((594123.287 4525906.396, 594213.566 4...</td>\n",
              "    </tr>\n",
              "    <tr>\n",
              "      <th>38792</th>\n",
              "      <td>480</td>\n",
              "      <td>POLYGON ((591982.370 4523793.569, 591849.992 4...</td>\n",
              "    </tr>\n",
              "    <tr>\n",
              "      <th>38793</th>\n",
              "      <td>655</td>\n",
              "      <td>POLYGON ((591350.936 4523179.749, 591403.772 4...</td>\n",
              "    </tr>\n",
              "  </tbody>\n",
              "</table>\n",
              "<p>38794 rows × 2 columns</p>\n",
              "</div>\n",
              "      <button class=\"colab-df-convert\" onclick=\"convertToInteractive('df-ef9b6fa8-12e5-4030-8a64-db9e641a60b4')\"\n",
              "              title=\"Convert this dataframe to an interactive table.\"\n",
              "              style=\"display:none;\">\n",
              "        \n",
              "  <svg xmlns=\"http://www.w3.org/2000/svg\" height=\"24px\"viewBox=\"0 0 24 24\"\n",
              "       width=\"24px\">\n",
              "    <path d=\"M0 0h24v24H0V0z\" fill=\"none\"/>\n",
              "    <path d=\"M18.56 5.44l.94 2.06.94-2.06 2.06-.94-2.06-.94-.94-2.06-.94 2.06-2.06.94zm-11 1L8.5 8.5l.94-2.06 2.06-.94-2.06-.94L8.5 2.5l-.94 2.06-2.06.94zm10 10l.94 2.06.94-2.06 2.06-.94-2.06-.94-.94-2.06-.94 2.06-2.06.94z\"/><path d=\"M17.41 7.96l-1.37-1.37c-.4-.4-.92-.59-1.43-.59-.52 0-1.04.2-1.43.59L10.3 9.45l-7.72 7.72c-.78.78-.78 2.05 0 2.83L4 21.41c.39.39.9.59 1.41.59.51 0 1.02-.2 1.41-.59l7.78-7.78 2.81-2.81c.8-.78.8-2.07 0-2.86zM5.41 20L4 18.59l7.72-7.72 1.47 1.35L5.41 20z\"/>\n",
              "  </svg>\n",
              "      </button>\n",
              "      \n",
              "  <style>\n",
              "    .colab-df-container {\n",
              "      display:flex;\n",
              "      flex-wrap:wrap;\n",
              "      gap: 12px;\n",
              "    }\n",
              "\n",
              "    .colab-df-convert {\n",
              "      background-color: #E8F0FE;\n",
              "      border: none;\n",
              "      border-radius: 50%;\n",
              "      cursor: pointer;\n",
              "      display: none;\n",
              "      fill: #1967D2;\n",
              "      height: 32px;\n",
              "      padding: 0 0 0 0;\n",
              "      width: 32px;\n",
              "    }\n",
              "\n",
              "    .colab-df-convert:hover {\n",
              "      background-color: #E2EBFA;\n",
              "      box-shadow: 0px 1px 2px rgba(60, 64, 67, 0.3), 0px 1px 3px 1px rgba(60, 64, 67, 0.15);\n",
              "      fill: #174EA6;\n",
              "    }\n",
              "\n",
              "    [theme=dark] .colab-df-convert {\n",
              "      background-color: #3B4455;\n",
              "      fill: #D2E3FC;\n",
              "    }\n",
              "\n",
              "    [theme=dark] .colab-df-convert:hover {\n",
              "      background-color: #434B5C;\n",
              "      box-shadow: 0px 1px 3px 1px rgba(0, 0, 0, 0.15);\n",
              "      filter: drop-shadow(0px 1px 2px rgba(0, 0, 0, 0.3));\n",
              "      fill: #FFFFFF;\n",
              "    }\n",
              "  </style>\n",
              "\n",
              "      <script>\n",
              "        const buttonEl =\n",
              "          document.querySelector('#df-ef9b6fa8-12e5-4030-8a64-db9e641a60b4 button.colab-df-convert');\n",
              "        buttonEl.style.display =\n",
              "          google.colab.kernel.accessAllowed ? 'block' : 'none';\n",
              "\n",
              "        async function convertToInteractive(key) {\n",
              "          const element = document.querySelector('#df-ef9b6fa8-12e5-4030-8a64-db9e641a60b4');\n",
              "          const dataTable =\n",
              "            await google.colab.kernel.invokeFunction('convertToInteractive',\n",
              "                                                     [key], {});\n",
              "          if (!dataTable) return;\n",
              "\n",
              "          const docLinkHtml = 'Like what you see? Visit the ' +\n",
              "            '<a target=\"_blank\" href=https://colab.research.google.com/notebooks/data_table.ipynb>data table notebook</a>'\n",
              "            + ' to learn more about interactive tables.';\n",
              "          element.innerHTML = '';\n",
              "          dataTable['output_type'] = 'display_data';\n",
              "          await google.colab.output.renderOutput(dataTable, element);\n",
              "          const docLink = document.createElement('div');\n",
              "          docLink.innerHTML = docLinkHtml;\n",
              "          element.appendChild(docLink);\n",
              "        }\n",
              "      </script>\n",
              "    </div>\n",
              "  </div>\n",
              "  "
            ],
            "text/plain": [
              "       POPN_TOTAL                                           geometry\n",
              "0              97  POLYGON ((577856.547 4499583.235, 577862.635 4...\n",
              "1              66  POLYGON ((578620.717 4495974.818, 578535.358 4...\n",
              "2              62  POLYGON ((577227.224 4495995.067, 577155.625 4...\n",
              "3             137  POLYGON ((579037.033 4494421.770, 579000.015 4...\n",
              "4             289  POLYGON ((577652.483 4494975.052, 577681.914 4...\n",
              "...           ...                                                ...\n",
              "38789         328  POLYGON ((592015.668 4526716.910, 591988.060 4...\n",
              "38790           0  POLYGON ((592141.936 4526852.139, 592112.564 4...\n",
              "38791           0  POLYGON ((594123.287 4525906.396, 594213.566 4...\n",
              "38792         480  POLYGON ((591982.370 4523793.569, 591849.992 4...\n",
              "38793         655  POLYGON ((591350.936 4523179.749, 591403.772 4...\n",
              "\n",
              "[38794 rows x 2 columns]"
            ]
          },
          "metadata": {},
          "execution_count": 52
        }
      ]
    },
    {
      "cell_type": "code",
      "source": [
        "join = gpd.sjoin(geodata_n, pop, how = 'inner', predicate='intersects')"
      ],
      "metadata": {
        "id": "j6iudyVkhhON"
      },
      "execution_count": null,
      "outputs": []
    },
    {
      "cell_type": "code",
      "source": [
        "join"
      ],
      "metadata": {
        "colab": {
          "base_uri": "https://localhost:8080/",
          "height": 424
        },
        "id": "mJ1m2oV8hztO",
        "outputId": "9e746dea-2424-4cef-8ba5-2ab79de67ab9"
      },
      "execution_count": null,
      "outputs": [
        {
          "output_type": "execute_result",
          "data": {
            "text/html": [
              "\n",
              "  <div id=\"df-b57757b7-995f-4047-a9a0-51d75836cd0a\">\n",
              "    <div class=\"colab-df-container\">\n",
              "      <div>\n",
              "<style scoped>\n",
              "    .dataframe tbody tr th:only-of-type {\n",
              "        vertical-align: middle;\n",
              "    }\n",
              "\n",
              "    .dataframe tbody tr th {\n",
              "        vertical-align: top;\n",
              "    }\n",
              "\n",
              "    .dataframe thead th {\n",
              "        text-align: right;\n",
              "    }\n",
              "</style>\n",
              "<table border=\"1\" class=\"dataframe\">\n",
              "  <thead>\n",
              "    <tr style=\"text-align: right;\">\n",
              "      <th></th>\n",
              "      <th>geometry</th>\n",
              "      <th>id</th>\n",
              "      <th>name</th>\n",
              "      <th>index_right</th>\n",
              "      <th>POPN_TOTAL</th>\n",
              "    </tr>\n",
              "  </thead>\n",
              "  <tbody>\n",
              "    <tr>\n",
              "      <th>0</th>\n",
              "      <td>POLYGON ((584647.497 4507288.276, 584640.274 4...</td>\n",
              "      <td>1</td>\n",
              "      <td>Brookfield Place</td>\n",
              "      <td>18118</td>\n",
              "      <td>148</td>\n",
              "    </tr>\n",
              "    <tr>\n",
              "      <th>1</th>\n",
              "      <td>POLYGON ((584983.345 4507230.975, 584976.122 4...</td>\n",
              "      <td>2</td>\n",
              "      <td>Westfield World Trade Center</td>\n",
              "      <td>18118</td>\n",
              "      <td>148</td>\n",
              "    </tr>\n",
              "    <tr>\n",
              "      <th>6</th>\n",
              "      <td>POLYGON ((586605.637 4508797.488, 586598.414 4...</td>\n",
              "      <td>7</td>\n",
              "      <td>SHOWFIELDS</td>\n",
              "      <td>18118</td>\n",
              "      <td>148</td>\n",
              "    </tr>\n",
              "    <tr>\n",
              "      <th>0</th>\n",
              "      <td>POLYGON ((584647.497 4507288.276, 584640.274 4...</td>\n",
              "      <td>1</td>\n",
              "      <td>Brookfield Place</td>\n",
              "      <td>1535</td>\n",
              "      <td>0</td>\n",
              "    </tr>\n",
              "    <tr>\n",
              "      <th>1</th>\n",
              "      <td>POLYGON ((584983.345 4507230.975, 584976.122 4...</td>\n",
              "      <td>2</td>\n",
              "      <td>Westfield World Trade Center</td>\n",
              "      <td>1535</td>\n",
              "      <td>0</td>\n",
              "    </tr>\n",
              "    <tr>\n",
              "      <th>...</th>\n",
              "      <td>...</td>\n",
              "      <td>...</td>\n",
              "      <td>...</td>\n",
              "      <td>...</td>\n",
              "      <td>...</td>\n",
              "    </tr>\n",
              "    <tr>\n",
              "      <th>6</th>\n",
              "      <td>POLYGON ((586605.637 4508797.488, 586598.414 4...</td>\n",
              "      <td>7</td>\n",
              "      <td>SHOWFIELDS</td>\n",
              "      <td>18161</td>\n",
              "      <td>0</td>\n",
              "    </tr>\n",
              "    <tr>\n",
              "      <th>6</th>\n",
              "      <td>POLYGON ((586605.637 4508797.488, 586598.414 4...</td>\n",
              "      <td>7</td>\n",
              "      <td>SHOWFIELDS</td>\n",
              "      <td>32446</td>\n",
              "      <td>643</td>\n",
              "    </tr>\n",
              "    <tr>\n",
              "      <th>6</th>\n",
              "      <td>POLYGON ((586605.637 4508797.488, 586598.414 4...</td>\n",
              "      <td>7</td>\n",
              "      <td>SHOWFIELDS</td>\n",
              "      <td>26786</td>\n",
              "      <td>446</td>\n",
              "    </tr>\n",
              "    <tr>\n",
              "      <th>6</th>\n",
              "      <td>POLYGON ((586605.637 4508797.488, 586598.414 4...</td>\n",
              "      <td>7</td>\n",
              "      <td>SHOWFIELDS</td>\n",
              "      <td>16681</td>\n",
              "      <td>473</td>\n",
              "    </tr>\n",
              "    <tr>\n",
              "      <th>6</th>\n",
              "      <td>POLYGON ((586605.637 4508797.488, 586598.414 4...</td>\n",
              "      <td>7</td>\n",
              "      <td>SHOWFIELDS</td>\n",
              "      <td>33214</td>\n",
              "      <td>0</td>\n",
              "    </tr>\n",
              "  </tbody>\n",
              "</table>\n",
              "<p>3417 rows × 5 columns</p>\n",
              "</div>\n",
              "      <button class=\"colab-df-convert\" onclick=\"convertToInteractive('df-b57757b7-995f-4047-a9a0-51d75836cd0a')\"\n",
              "              title=\"Convert this dataframe to an interactive table.\"\n",
              "              style=\"display:none;\">\n",
              "        \n",
              "  <svg xmlns=\"http://www.w3.org/2000/svg\" height=\"24px\"viewBox=\"0 0 24 24\"\n",
              "       width=\"24px\">\n",
              "    <path d=\"M0 0h24v24H0V0z\" fill=\"none\"/>\n",
              "    <path d=\"M18.56 5.44l.94 2.06.94-2.06 2.06-.94-2.06-.94-.94-2.06-.94 2.06-2.06.94zm-11 1L8.5 8.5l.94-2.06 2.06-.94-2.06-.94L8.5 2.5l-.94 2.06-2.06.94zm10 10l.94 2.06.94-2.06 2.06-.94-2.06-.94-.94-2.06-.94 2.06-2.06.94z\"/><path d=\"M17.41 7.96l-1.37-1.37c-.4-.4-.92-.59-1.43-.59-.52 0-1.04.2-1.43.59L10.3 9.45l-7.72 7.72c-.78.78-.78 2.05 0 2.83L4 21.41c.39.39.9.59 1.41.59.51 0 1.02-.2 1.41-.59l7.78-7.78 2.81-2.81c.8-.78.8-2.07 0-2.86zM5.41 20L4 18.59l7.72-7.72 1.47 1.35L5.41 20z\"/>\n",
              "  </svg>\n",
              "      </button>\n",
              "      \n",
              "  <style>\n",
              "    .colab-df-container {\n",
              "      display:flex;\n",
              "      flex-wrap:wrap;\n",
              "      gap: 12px;\n",
              "    }\n",
              "\n",
              "    .colab-df-convert {\n",
              "      background-color: #E8F0FE;\n",
              "      border: none;\n",
              "      border-radius: 50%;\n",
              "      cursor: pointer;\n",
              "      display: none;\n",
              "      fill: #1967D2;\n",
              "      height: 32px;\n",
              "      padding: 0 0 0 0;\n",
              "      width: 32px;\n",
              "    }\n",
              "\n",
              "    .colab-df-convert:hover {\n",
              "      background-color: #E2EBFA;\n",
              "      box-shadow: 0px 1px 2px rgba(60, 64, 67, 0.3), 0px 1px 3px 1px rgba(60, 64, 67, 0.15);\n",
              "      fill: #174EA6;\n",
              "    }\n",
              "\n",
              "    [theme=dark] .colab-df-convert {\n",
              "      background-color: #3B4455;\n",
              "      fill: #D2E3FC;\n",
              "    }\n",
              "\n",
              "    [theme=dark] .colab-df-convert:hover {\n",
              "      background-color: #434B5C;\n",
              "      box-shadow: 0px 1px 3px 1px rgba(0, 0, 0, 0.15);\n",
              "      filter: drop-shadow(0px 1px 2px rgba(0, 0, 0, 0.3));\n",
              "      fill: #FFFFFF;\n",
              "    }\n",
              "  </style>\n",
              "\n",
              "      <script>\n",
              "        const buttonEl =\n",
              "          document.querySelector('#df-b57757b7-995f-4047-a9a0-51d75836cd0a button.colab-df-convert');\n",
              "        buttonEl.style.display =\n",
              "          google.colab.kernel.accessAllowed ? 'block' : 'none';\n",
              "\n",
              "        async function convertToInteractive(key) {\n",
              "          const element = document.querySelector('#df-b57757b7-995f-4047-a9a0-51d75836cd0a');\n",
              "          const dataTable =\n",
              "            await google.colab.kernel.invokeFunction('convertToInteractive',\n",
              "                                                     [key], {});\n",
              "          if (!dataTable) return;\n",
              "\n",
              "          const docLinkHtml = 'Like what you see? Visit the ' +\n",
              "            '<a target=\"_blank\" href=https://colab.research.google.com/notebooks/data_table.ipynb>data table notebook</a>'\n",
              "            + ' to learn more about interactive tables.';\n",
              "          element.innerHTML = '';\n",
              "          dataTable['output_type'] = 'display_data';\n",
              "          await google.colab.output.renderOutput(dataTable, element);\n",
              "          const docLink = document.createElement('div');\n",
              "          docLink.innerHTML = docLinkHtml;\n",
              "          element.appendChild(docLink);\n",
              "        }\n",
              "      </script>\n",
              "    </div>\n",
              "  </div>\n",
              "  "
            ],
            "text/plain": [
              "                                             geometry  ...  POPN_TOTAL\n",
              "0   POLYGON ((584647.497 4507288.276, 584640.274 4...  ...         148\n",
              "1   POLYGON ((584983.345 4507230.975, 584976.122 4...  ...         148\n",
              "6   POLYGON ((586605.637 4508797.488, 586598.414 4...  ...         148\n",
              "0   POLYGON ((584647.497 4507288.276, 584640.274 4...  ...           0\n",
              "1   POLYGON ((584983.345 4507230.975, 584976.122 4...  ...           0\n",
              "..                                                ...  ...         ...\n",
              "6   POLYGON ((586605.637 4508797.488, 586598.414 4...  ...           0\n",
              "6   POLYGON ((586605.637 4508797.488, 586598.414 4...  ...         643\n",
              "6   POLYGON ((586605.637 4508797.488, 586598.414 4...  ...         446\n",
              "6   POLYGON ((586605.637 4508797.488, 586598.414 4...  ...         473\n",
              "6   POLYGON ((586605.637 4508797.488, 586598.414 4...  ...           0\n",
              "\n",
              "[3417 rows x 5 columns]"
            ]
          },
          "metadata": {},
          "execution_count": 66
        }
      ]
    },
    {
      "cell_type": "code",
      "source": [
        "total_pop_int_centre =join.groupby(' name').size().reset_index()\n",
        "total_pop_int_centre"
      ],
      "metadata": {
        "colab": {
          "base_uri": "https://localhost:8080/",
          "height": 269
        },
        "id": "_dbGAP4yh7M5",
        "outputId": "c19a0013-23a2-4304-c152-17a0b5a054f7"
      },
      "execution_count": null,
      "outputs": [
        {
          "output_type": "execute_result",
          "data": {
            "text/html": [
              "\n",
              "  <div id=\"df-098aa0eb-3461-4f4a-acad-fe4b72613398\">\n",
              "    <div class=\"colab-df-container\">\n",
              "      <div>\n",
              "<style scoped>\n",
              "    .dataframe tbody tr th:only-of-type {\n",
              "        vertical-align: middle;\n",
              "    }\n",
              "\n",
              "    .dataframe tbody tr th {\n",
              "        vertical-align: top;\n",
              "    }\n",
              "\n",
              "    .dataframe thead th {\n",
              "        text-align: right;\n",
              "    }\n",
              "</style>\n",
              "<table border=\"1\" class=\"dataframe\">\n",
              "  <thead>\n",
              "    <tr style=\"text-align: right;\">\n",
              "      <th></th>\n",
              "      <th>name</th>\n",
              "      <th>0</th>\n",
              "    </tr>\n",
              "  </thead>\n",
              "  <tbody>\n",
              "    <tr>\n",
              "      <th>0</th>\n",
              "      <td>Brookfield Place</td>\n",
              "      <td>419</td>\n",
              "    </tr>\n",
              "    <tr>\n",
              "      <th>1</th>\n",
              "      <td>Hudson Yards</td>\n",
              "      <td>322</td>\n",
              "    </tr>\n",
              "    <tr>\n",
              "      <th>2</th>\n",
              "      <td>Manhattan Mall</td>\n",
              "      <td>516</td>\n",
              "    </tr>\n",
              "    <tr>\n",
              "      <th>3</th>\n",
              "      <td>SHOWFIELDS</td>\n",
              "      <td>740</td>\n",
              "    </tr>\n",
              "    <tr>\n",
              "      <th>4</th>\n",
              "      <td>Showplace Luxury Art Design Vintage</td>\n",
              "      <td>555</td>\n",
              "    </tr>\n",
              "    <tr>\n",
              "      <th>5</th>\n",
              "      <td>The Shops at Columbus Circle</td>\n",
              "      <td>385</td>\n",
              "    </tr>\n",
              "    <tr>\n",
              "      <th>6</th>\n",
              "      <td>Westfield World Trade Center</td>\n",
              "      <td>480</td>\n",
              "    </tr>\n",
              "  </tbody>\n",
              "</table>\n",
              "</div>\n",
              "      <button class=\"colab-df-convert\" onclick=\"convertToInteractive('df-098aa0eb-3461-4f4a-acad-fe4b72613398')\"\n",
              "              title=\"Convert this dataframe to an interactive table.\"\n",
              "              style=\"display:none;\">\n",
              "        \n",
              "  <svg xmlns=\"http://www.w3.org/2000/svg\" height=\"24px\"viewBox=\"0 0 24 24\"\n",
              "       width=\"24px\">\n",
              "    <path d=\"M0 0h24v24H0V0z\" fill=\"none\"/>\n",
              "    <path d=\"M18.56 5.44l.94 2.06.94-2.06 2.06-.94-2.06-.94-.94-2.06-.94 2.06-2.06.94zm-11 1L8.5 8.5l.94-2.06 2.06-.94-2.06-.94L8.5 2.5l-.94 2.06-2.06.94zm10 10l.94 2.06.94-2.06 2.06-.94-2.06-.94-.94-2.06-.94 2.06-2.06.94z\"/><path d=\"M17.41 7.96l-1.37-1.37c-.4-.4-.92-.59-1.43-.59-.52 0-1.04.2-1.43.59L10.3 9.45l-7.72 7.72c-.78.78-.78 2.05 0 2.83L4 21.41c.39.39.9.59 1.41.59.51 0 1.02-.2 1.41-.59l7.78-7.78 2.81-2.81c.8-.78.8-2.07 0-2.86zM5.41 20L4 18.59l7.72-7.72 1.47 1.35L5.41 20z\"/>\n",
              "  </svg>\n",
              "      </button>\n",
              "      \n",
              "  <style>\n",
              "    .colab-df-container {\n",
              "      display:flex;\n",
              "      flex-wrap:wrap;\n",
              "      gap: 12px;\n",
              "    }\n",
              "\n",
              "    .colab-df-convert {\n",
              "      background-color: #E8F0FE;\n",
              "      border: none;\n",
              "      border-radius: 50%;\n",
              "      cursor: pointer;\n",
              "      display: none;\n",
              "      fill: #1967D2;\n",
              "      height: 32px;\n",
              "      padding: 0 0 0 0;\n",
              "      width: 32px;\n",
              "    }\n",
              "\n",
              "    .colab-df-convert:hover {\n",
              "      background-color: #E2EBFA;\n",
              "      box-shadow: 0px 1px 2px rgba(60, 64, 67, 0.3), 0px 1px 3px 1px rgba(60, 64, 67, 0.15);\n",
              "      fill: #174EA6;\n",
              "    }\n",
              "\n",
              "    [theme=dark] .colab-df-convert {\n",
              "      background-color: #3B4455;\n",
              "      fill: #D2E3FC;\n",
              "    }\n",
              "\n",
              "    [theme=dark] .colab-df-convert:hover {\n",
              "      background-color: #434B5C;\n",
              "      box-shadow: 0px 1px 3px 1px rgba(0, 0, 0, 0.15);\n",
              "      filter: drop-shadow(0px 1px 2px rgba(0, 0, 0, 0.3));\n",
              "      fill: #FFFFFF;\n",
              "    }\n",
              "  </style>\n",
              "\n",
              "      <script>\n",
              "        const buttonEl =\n",
              "          document.querySelector('#df-098aa0eb-3461-4f4a-acad-fe4b72613398 button.colab-df-convert');\n",
              "        buttonEl.style.display =\n",
              "          google.colab.kernel.accessAllowed ? 'block' : 'none';\n",
              "\n",
              "        async function convertToInteractive(key) {\n",
              "          const element = document.querySelector('#df-098aa0eb-3461-4f4a-acad-fe4b72613398');\n",
              "          const dataTable =\n",
              "            await google.colab.kernel.invokeFunction('convertToInteractive',\n",
              "                                                     [key], {});\n",
              "          if (!dataTable) return;\n",
              "\n",
              "          const docLinkHtml = 'Like what you see? Visit the ' +\n",
              "            '<a target=\"_blank\" href=https://colab.research.google.com/notebooks/data_table.ipynb>data table notebook</a>'\n",
              "            + ' to learn more about interactive tables.';\n",
              "          element.innerHTML = '';\n",
              "          dataTable['output_type'] = 'display_data';\n",
              "          await google.colab.output.renderOutput(dataTable, element);\n",
              "          const docLink = document.createElement('div');\n",
              "          docLink.innerHTML = docLinkHtml;\n",
              "          element.appendChild(docLink);\n",
              "        }\n",
              "      </script>\n",
              "    </div>\n",
              "  </div>\n",
              "  "
            ],
            "text/plain": [
              "                                   name    0\n",
              "0                      Brookfield Place  419\n",
              "1                          Hudson Yards  322\n",
              "2                        Manhattan Mall  516\n",
              "3                            SHOWFIELDS  740\n",
              "4   Showplace Luxury Art Design Vintage  555\n",
              "5          The Shops at Columbus Circle  385\n",
              "6          Westfield World Trade Center  480"
            ]
          },
          "metadata": {},
          "execution_count": 70
        }
      ]
    },
    {
      "cell_type": "code",
      "source": [
        "join.columns"
      ],
      "metadata": {
        "colab": {
          "base_uri": "https://localhost:8080/"
        },
        "id": "wkAZWnBsJeRd",
        "outputId": "f2def2d4-13a3-4f30-e537-c7bb6de4e7fe"
      },
      "execution_count": null,
      "outputs": [
        {
          "output_type": "execute_result",
          "data": {
            "text/plain": [
              "Index(['BLKID', 'POPN_TOTAL', 'POPN_WHITE', 'POPN_BLACK', 'POPN_NATIV',\n",
              "       'POPN_ASIAN', 'POPN_OTHER', 'BORONAME', 'geometry', 'index_right', 'id',\n",
              "       ' name'],\n",
              "      dtype='object')"
            ]
          },
          "metadata": {},
          "execution_count": 79
        }
      ]
    },
    {
      "cell_type": "code",
      "source": [
        "# correlation between total population and name\n",
        "total_pop_int_centre =join.groupby(' name').size().reset_index()\n",
        "total_pop_int_centre"
      ],
      "metadata": {
        "colab": {
          "base_uri": "https://localhost:8080/",
          "height": 269
        },
        "id": "G9oK0FehIPi2",
        "outputId": "7f65b8f1-f452-4f8f-be2a-ca0fa65aa730"
      },
      "execution_count": null,
      "outputs": [
        {
          "output_type": "execute_result",
          "data": {
            "text/html": [
              "\n",
              "  <div id=\"df-5194d1e5-7f63-4ac9-a8a1-9dd58d37b34a\">\n",
              "    <div class=\"colab-df-container\">\n",
              "      <div>\n",
              "<style scoped>\n",
              "    .dataframe tbody tr th:only-of-type {\n",
              "        vertical-align: middle;\n",
              "    }\n",
              "\n",
              "    .dataframe tbody tr th {\n",
              "        vertical-align: top;\n",
              "    }\n",
              "\n",
              "    .dataframe thead th {\n",
              "        text-align: right;\n",
              "    }\n",
              "</style>\n",
              "<table border=\"1\" class=\"dataframe\">\n",
              "  <thead>\n",
              "    <tr style=\"text-align: right;\">\n",
              "      <th></th>\n",
              "      <th>name</th>\n",
              "      <th>0</th>\n",
              "    </tr>\n",
              "  </thead>\n",
              "  <tbody>\n",
              "    <tr>\n",
              "      <th>0</th>\n",
              "      <td>Brookfield Place</td>\n",
              "      <td>419</td>\n",
              "    </tr>\n",
              "    <tr>\n",
              "      <th>1</th>\n",
              "      <td>Hudson Yards</td>\n",
              "      <td>322</td>\n",
              "    </tr>\n",
              "    <tr>\n",
              "      <th>2</th>\n",
              "      <td>Manhattan Mall</td>\n",
              "      <td>516</td>\n",
              "    </tr>\n",
              "    <tr>\n",
              "      <th>3</th>\n",
              "      <td>SHOWFIELDS</td>\n",
              "      <td>740</td>\n",
              "    </tr>\n",
              "    <tr>\n",
              "      <th>4</th>\n",
              "      <td>Showplace Luxury Art Design Vintage</td>\n",
              "      <td>555</td>\n",
              "    </tr>\n",
              "    <tr>\n",
              "      <th>5</th>\n",
              "      <td>The Shops at Columbus Circle</td>\n",
              "      <td>385</td>\n",
              "    </tr>\n",
              "    <tr>\n",
              "      <th>6</th>\n",
              "      <td>Westfield World Trade Center</td>\n",
              "      <td>480</td>\n",
              "    </tr>\n",
              "  </tbody>\n",
              "</table>\n",
              "</div>\n",
              "      <button class=\"colab-df-convert\" onclick=\"convertToInteractive('df-5194d1e5-7f63-4ac9-a8a1-9dd58d37b34a')\"\n",
              "              title=\"Convert this dataframe to an interactive table.\"\n",
              "              style=\"display:none;\">\n",
              "        \n",
              "  <svg xmlns=\"http://www.w3.org/2000/svg\" height=\"24px\"viewBox=\"0 0 24 24\"\n",
              "       width=\"24px\">\n",
              "    <path d=\"M0 0h24v24H0V0z\" fill=\"none\"/>\n",
              "    <path d=\"M18.56 5.44l.94 2.06.94-2.06 2.06-.94-2.06-.94-.94-2.06-.94 2.06-2.06.94zm-11 1L8.5 8.5l.94-2.06 2.06-.94-2.06-.94L8.5 2.5l-.94 2.06-2.06.94zm10 10l.94 2.06.94-2.06 2.06-.94-2.06-.94-.94-2.06-.94 2.06-2.06.94z\"/><path d=\"M17.41 7.96l-1.37-1.37c-.4-.4-.92-.59-1.43-.59-.52 0-1.04.2-1.43.59L10.3 9.45l-7.72 7.72c-.78.78-.78 2.05 0 2.83L4 21.41c.39.39.9.59 1.41.59.51 0 1.02-.2 1.41-.59l7.78-7.78 2.81-2.81c.8-.78.8-2.07 0-2.86zM5.41 20L4 18.59l7.72-7.72 1.47 1.35L5.41 20z\"/>\n",
              "  </svg>\n",
              "      </button>\n",
              "      \n",
              "  <style>\n",
              "    .colab-df-container {\n",
              "      display:flex;\n",
              "      flex-wrap:wrap;\n",
              "      gap: 12px;\n",
              "    }\n",
              "\n",
              "    .colab-df-convert {\n",
              "      background-color: #E8F0FE;\n",
              "      border: none;\n",
              "      border-radius: 50%;\n",
              "      cursor: pointer;\n",
              "      display: none;\n",
              "      fill: #1967D2;\n",
              "      height: 32px;\n",
              "      padding: 0 0 0 0;\n",
              "      width: 32px;\n",
              "    }\n",
              "\n",
              "    .colab-df-convert:hover {\n",
              "      background-color: #E2EBFA;\n",
              "      box-shadow: 0px 1px 2px rgba(60, 64, 67, 0.3), 0px 1px 3px 1px rgba(60, 64, 67, 0.15);\n",
              "      fill: #174EA6;\n",
              "    }\n",
              "\n",
              "    [theme=dark] .colab-df-convert {\n",
              "      background-color: #3B4455;\n",
              "      fill: #D2E3FC;\n",
              "    }\n",
              "\n",
              "    [theme=dark] .colab-df-convert:hover {\n",
              "      background-color: #434B5C;\n",
              "      box-shadow: 0px 1px 3px 1px rgba(0, 0, 0, 0.15);\n",
              "      filter: drop-shadow(0px 1px 2px rgba(0, 0, 0, 0.3));\n",
              "      fill: #FFFFFF;\n",
              "    }\n",
              "  </style>\n",
              "\n",
              "      <script>\n",
              "        const buttonEl =\n",
              "          document.querySelector('#df-5194d1e5-7f63-4ac9-a8a1-9dd58d37b34a button.colab-df-convert');\n",
              "        buttonEl.style.display =\n",
              "          google.colab.kernel.accessAllowed ? 'block' : 'none';\n",
              "\n",
              "        async function convertToInteractive(key) {\n",
              "          const element = document.querySelector('#df-5194d1e5-7f63-4ac9-a8a1-9dd58d37b34a');\n",
              "          const dataTable =\n",
              "            await google.colab.kernel.invokeFunction('convertToInteractive',\n",
              "                                                     [key], {});\n",
              "          if (!dataTable) return;\n",
              "\n",
              "          const docLinkHtml = 'Like what you see? Visit the ' +\n",
              "            '<a target=\"_blank\" href=https://colab.research.google.com/notebooks/data_table.ipynb>data table notebook</a>'\n",
              "            + ' to learn more about interactive tables.';\n",
              "          element.innerHTML = '';\n",
              "          dataTable['output_type'] = 'display_data';\n",
              "          await google.colab.output.renderOutput(dataTable, element);\n",
              "          const docLink = document.createElement('div');\n",
              "          docLink.innerHTML = docLinkHtml;\n",
              "          element.appendChild(docLink);\n",
              "        }\n",
              "      </script>\n",
              "    </div>\n",
              "  </div>\n",
              "  "
            ],
            "text/plain": [
              "                                   name    0\n",
              "0                      Brookfield Place  419\n",
              "1                          Hudson Yards  322\n",
              "2                        Manhattan Mall  516\n",
              "3                            SHOWFIELDS  740\n",
              "4   Showplace Luxury Art Design Vintage  555\n",
              "5          The Shops at Columbus Circle  385\n",
              "6          Westfield World Trade Center  480"
            ]
          },
          "metadata": {},
          "execution_count": 80
        }
      ]
    }
  ]
}